{
 "cells": [
  {
   "cell_type": "markdown",
   "metadata": {},
   "source": [
    "# Interacting with NSG\n",
    "\n",
    "**This notebook aims to show how to send jobs to supercomputers through [NSG](https://www.nsgportal.org/), getting results and analysing them (based on the NeuroML2 version of the network)**\n",
    "\n",
    "In order to be able to run the notebook install the [NeuroML](https://github.com/NeuroML/jNeuroML) toolchain, by:\n",
    "\n",
    "    git clone git://github.com/NeuroML/jNeuroML.git neuroml_dev/jNeuroML\n",
    "    cd neuroml_dev/jNeuroML\n",
    "    python getNeuroML.py development\n",
    "\n",
    "Meaning of cells and necessary installs to run them will be explained below!\n",
    "\n",
    "authors: András Ecker, Padraig Gleeson, last modified 09.2017"
   ]
  },
  {
   "cell_type": "code",
   "execution_count": 10,
   "metadata": {
    "collapsed": false
   },
   "outputs": [
    {
     "name": "stderr",
     "output_type": "stream",
     "text": [
      "ERROR:root:Line magic function `%autoreload` not found.\n"
     ]
    }
   ],
   "source": [
    "# basic includes...\n",
    "%autoreload 2\n",
    "%matplotlib inline"
   ]
  },
  {
   "cell_type": "markdown",
   "metadata": {},
   "source": [
    "In order to accelerate the simulation we downscale the size of the network! *(but not the volume as in the original NEURON version)*"
   ]
  },
  {
   "cell_type": "code",
   "execution_count": 8,
   "metadata": {
    "collapsed": true
   },
   "outputs": [],
   "source": [
    "# important parameters used trough the whole notebook\n",
    "scale = 5000 # downscaling factor\n",
    "duration = 200 # ms (simulation time)"
   ]
  },
  {
   "cell_type": "markdown",
   "metadata": {},
   "source": [
    "### Generating NeuroML2 network\n",
    "\n",
    "The cells below generate a new NeuroML network, which later will be used to generate a simulation and sent to NSG.\n",
    "You can skip this part, by using the default network with scale=100000, or by going to the ../NeuroML2/network folder and running\n",
    "\n",
    "    python GenerateHippocampalNetwork_oc.py <scale>\n",
    "\n",
    "> further (python) packages necessary to run the code below: [pyNeuroML](https://github.com/NeuroML/pyNeuroML), [OpenCortex](https://github.com/OpenSourceBrain/OpenCortex) "
   ]
  },
  {
   "cell_type": "code",
   "execution_count": 7,
   "metadata": {
    "collapsed": false
   },
   "outputs": [
    {
     "name": "stdout",
     "output_type": "stream",
     "text": [
      "[Errno 2] No such file or directory: '../NeuroML2/network'\n",
      "/home/bandi/workspace/ca1/NeuroML2/network\n"
     ]
    }
   ],
   "source": [
    "# change directory for new network generation\n",
    "%cd ../NeuroML2/network"
   ]
  },
  {
   "cell_type": "code",
   "execution_count": 9,
   "metadata": {
    "collapsed": false
   },
   "outputs": [
    {
     "name": "stderr",
     "output_type": "stream",
     "text": [
      "GenerateHippocampalNet_oc.py:259: UserWarning: ***** Scaling down more then 1000x alters both population size and the connectivity seriously! *****\n",
      "  warnings.warn(\"***** Scaling down more then 1000x alters both population size and the connectivity seriously! *****\")\n"
     ]
    },
    {
     "name": "stdout",
     "output_type": "stream",
     "text": [
      "OpenCortex >>> Created NeuroMLDocument containing a network with id: HippocampalNet_scale5000_oc\n",
      "Cell numbers read from config. file!\n",
      "Populations created; #cells:70 (without stimulating 'cells')\n",
      "OpenCortex >>> Adding projection: proj_pop_cck_pop_bistratified: <neuroml.nml.nml.Cell object at 0x7fc2debcd050> ({'soma_group': [0, 2]}) -> <neuroml.nml.nml.Cell object at 0x7fc2dec20590> ({'soma_group': [0, 2]})\n",
      "OpenCortex >>> Adding convergent projection with {'soma_group': 12} conns: [<neuroml.nml.nml.Projection object at 0x7fc2de84ea90>]: pop_cck -> pop_bistratified, ['syn_cck_to_bistratified']\n",
      "OpenCortex >>> Adding projection: proj_pop_ca3_pop_poolosyn: Undetermined (None) -> <neuroml.nml.nml.Cell object at 0x7fc2deb54a10> ({'dendrite_list_50_to_200': [543, 544, 545, 546, 547, 537, 538, 539, 540, 541, 542, 535, 536, 533, 534, 550, 551, 552, 553, 554, 555, 556, 597, 598, 599, 588, 589, 590, 591, 592, 593, 594, 566, 567, 568, 569, 562, 563, 564, 565, 584, 585, 586, 579, 580, 581, 582, 623, 624, 625, 626, 627, 628, 622, 610, 611, 612, 604, 605, 606, 607, 608, 37, 38, 39, 42, 43, 40, 41, 47, 48, 44, 45, 46, 559, 560, 561, 633, 634, 635, 636, 637, 629, 630, 631, 632, 639, 640, 641, 642, 643, 644, 645, 651, 652, 653, 654, 655, 649, 650, 656, 657, 658, 659, 660, 661, 669, 670, 671, 672, 666, 667, 668, 689, 690, 691, 692, 673, 674, 675, 676, 677, 693, 694, 695, 696, 697, 698, 699, 701, 702, 703, 704, 705, 706, 707, 732, 733, 726, 727, 728, 729, 730, 717, 718, 719, 720, 709, 710, 711, 745, 746, 747, 748, 749, 750, 751, 735, 736, 737, 738, 739, 740, 741, 742, 409, 422, 423, 402, 439, 440, 441, 442, 424, 430, 443, 444, 445, 446, 447, 450, 451, 452, 458, 459, 453, 454, 477, 478, 469, 470, 471, 472, 481, 482, 479, 480, 485, 486, 483, 484, 492, 493, 494, 495, 487, 488, 489, 51, 52, 49, 50, 53, 508, 509, 510, 511, 512, 513, 514, 515, 516, 517, 518, 519, 520, 521, 522, 523, 500, 501, 506, 507]})\n",
      "OpenCortex >>> Adding convergent projection with {'dendrite_list_50_to_200': 5985} conns: [<neuroml.nml.nml.Projection object at 0x7fc2de854210>]: pop_ca3 -> pop_poolosyn, ['syn_ca3_to_poolosyn']\n",
      "OpenCortex >>> Adding projection: proj_pop_sca_pop_pvbasket: <neuroml.nml.nml.Cell object at 0x7fc2de8fc910> ({'soma_group': [0, 2]}) -> <neuroml.nml.nml.Cell object at 0x7fc2de8d3e50> ({'dendrite_list_50_to_200': [31, 32, 30, 23, 24, 25, 26, 13, 14, 15, 3, 4, 5]})\n",
      "OpenCortex >>> Adding convergent projection with {'dendrite_list_50_to_200': 1} conns: [<neuroml.nml.nml.Projection object at 0x7fc2d2423d90>]: pop_sca -> pop_pvbasket, ['syn_sca_to_pvbasket']\n",
      "OpenCortex >>> Adding projection: proj_pop_ec_pop_ngf: Undetermined (None) -> <neuroml.nml.nml.Cell object at 0x7fc2deb9f590> ({'dendrite_list_0_to_1000': [31, 32, 33, 34, 27, 28, 29, 30, 23, 24, 25, 26, 19, 20, 21, 22, 11, 12, 13, 14, 15, 16, 17, 18, 3, 4, 5, 6, 7, 8, 9, 10]})\n",
      "OpenCortex >>> Adding convergent projection with {'dendrite_list_0_to_1000': 523} conns: [<neuroml.nml.nml.Projection object at 0x7fc2d2423f50>]: pop_ec -> pop_ngf, ['syn_ec_to_ngf']\n",
      "OpenCortex >>> Adding projection: proj_pop_ca3_pop_bistratified: Undetermined (None) -> <neuroml.nml.nml.Cell object at 0x7fc2dec20590> ({'dendrite_list_50_to_200': [31, 32, 30, 23, 24, 25, 26, 13, 14, 15, 3, 4, 5]})\n",
      "OpenCortex >>> Adding convergent projection with {'dendrite_list_50_to_200': 5782} conns: [<neuroml.nml.nml.Projection object at 0x7fc2d2423f90>]: pop_ca3 -> pop_bistratified, ['syn_ca3_to_bistratified']\n",
      "OpenCortex >>> Adding projection: proj_pop_bistratified_pop_olm: <neuroml.nml.nml.Cell object at 0x7fc2dec20590> ({'soma_group': [0, 2]}) -> <neuroml.nml.nml.Cell object at 0x7fc2deb47f10> ({'dendrite_list_50_to_200': [3, 5]})\n",
      "OpenCortex >>> Adding convergent projection with {'dendrite_list_50_to_200': 39} conns: [<neuroml.nml.nml.Projection object at 0x7fc2d2079190>]: pop_bistratified -> pop_olm, ['syn_bistratified_to_olm']\n",
      "OpenCortex >>> Adding projection: proj_pop_sca_pop_sca: <neuroml.nml.nml.Cell object at 0x7fc2de8fc910> ({'soma_group': [0, 2]}) -> <neuroml.nml.nml.Cell object at 0x7fc2de8fc910> ({'dendrite_list_50_to_200': [31, 32, 30, 24, 25, 26, 13, 14, 15, 3, 4, 5]})\n",
      "OpenCortex >>> Adding convergent projection with {'dendrite_list_50_to_200': 6} conns: [<neuroml.nml.nml.Projection object at 0x7fc2d207e650>]: pop_sca -> pop_sca, ['syn_sca_to_sca']\n",
      "OpenCortex >>> Adding projection: proj_pop_ivy_pop_axoaxonic: <neuroml.nml.nml.Cell object at 0x7fc2debf6390> ({'soma_group': [0, 2]}) -> <neuroml.nml.nml.Cell object at 0x7fc2dec74d10> ({'dendrite_list_50_to_200': [31, 32, 30, 23, 24, 25, 26, 13, 14, 15, 3, 4, 5]})\n",
      "OpenCortex >>> Adding convergent projection with {'dendrite_list_50_to_200': 24} conns: [<neuroml.nml.nml.Projection object at 0x7fc2d207e750>]: pop_ivy -> pop_axoaxonic, ['syn_ivy_to_axoaxonic']\n",
      "OpenCortex >>> Adding projection: proj_pop_ivy_pop_ivy: <neuroml.nml.nml.Cell object at 0x7fc2debf6390> ({'soma_group': [0, 2]}) -> <neuroml.nml.nml.Cell object at 0x7fc2debf6390> ({'dendrite_list_50_to_200': [31, 32, 30, 23, 24, 25, 26, 13, 14, 15, 3, 4, 5]})\n",
      "OpenCortex >>> Adding convergent projection with {'dendrite_list_50_to_200': 24} conns: [<neuroml.nml.nml.Projection object at 0x7fc2d207e790>]: pop_ivy -> pop_ivy, ['syn_ivy_to_ivy']\n",
      "OpenCortex >>> Adding projection: proj_pop_poolosyn_pop_sca: <neuroml.nml.nml.Cell object at 0x7fc2deb54a10> ({'soma_group': [0, 2, 3, 4, 5, 6, 7, 8, 9, 10, 11, 12, 13, 14, 15, 16, 17, 18, 19, 20, 21, 22, 23, 24, 25, 26]}) -> <neuroml.nml.nml.Cell object at 0x7fc2de8fc910> ({'apical_list_100_to_1000': [31, 32, 33, 34, 27, 28, 25, 26, 19, 20, 21, 22, 11, 12, 14, 15, 16, 17, 18, 4, 5, 6, 7, 8, 9, 10]})\n",
      "OpenCortex >>> Adding convergent projection with {'apical_list_100_to_1000': 105} conns: [<neuroml.nml.nml.Projection object at 0x7fc2d2083490>]: pop_poolosyn -> pop_sca, ['syn_poolosyn_to_sca']\n",
      "OpenCortex >>> Adding projection: proj_pop_bistratified_pop_axoaxonic: <neuroml.nml.nml.Cell object at 0x7fc2dec20590> ({'soma_group': [0, 2]}) -> <neuroml.nml.nml.Cell object at 0x7fc2dec74d10> ({'dendrite_list_50_to_200': [31, 32, 30, 23, 24, 25, 26, 13, 14, 15, 3, 4, 5]})\n",
      "OpenCortex >>> Adding convergent projection with {'dendrite_list_50_to_200': 16} conns: [<neuroml.nml.nml.Projection object at 0x7fc2d207e5d0>]: pop_bistratified -> pop_axoaxonic, ['syn_bistratified_to_axoaxonic']\n",
      "OpenCortex >>> Adding projection: proj_pop_cck_pop_cck: <neuroml.nml.nml.Cell object at 0x7fc2debcd050> ({'soma_group': [0, 2]}) -> <neuroml.nml.nml.Cell object at 0x7fc2debcd050> ({'soma_group': [0, 2]})\n",
      "OpenCortex >>> Adding convergent projection with {'soma_group': 35} conns: [<neuroml.nml.nml.Projection object at 0x7fc2d2089e50>]: pop_cck -> pop_cck, ['syn_cck_to_cck']\n",
      "OpenCortex >>> Adding projection: proj_pop_ivy_pop_bistratified: <neuroml.nml.nml.Cell object at 0x7fc2debf6390> ({'soma_group': [0, 2]}) -> <neuroml.nml.nml.Cell object at 0x7fc2dec20590> ({'dendrite_list_50_to_200': [31, 32, 30, 23, 24, 25, 26, 13, 14, 15, 3, 4, 5]})\n",
      "OpenCortex >>> Adding convergent projection with {'dendrite_list_50_to_200': 24} conns: [<neuroml.nml.nml.Projection object at 0x7fc2d2089f10>]: pop_ivy -> pop_bistratified, ['syn_ivy_to_bistratified']\n",
      "OpenCortex >>> Adding projection: proj_pop_cck_pop_ivy: <neuroml.nml.nml.Cell object at 0x7fc2debcd050> ({'soma_group': [0, 2]}) -> <neuroml.nml.nml.Cell object at 0x7fc2debf6390> ({'soma_group': [0, 2]})\n",
      "OpenCortex >>> Adding convergent projection with {'soma_group': 8} conns: [<neuroml.nml.nml.Projection object at 0x7fc2d2089f50>]: pop_cck -> pop_ivy, ['syn_cck_to_ivy']\n",
      "OpenCortex >>> Adding projection: proj_pop_ca3_pop_ivy: Undetermined (None) -> <neuroml.nml.nml.Cell object at 0x7fc2debf6390> ({'dendrite_list_50_to_200': [31, 32, 30, 23, 24, 25, 26, 13, 14, 15, 3, 4, 5]})\n",
      "OpenCortex >>> Adding convergent projection with {'dendrite_list_50_to_200': 1923} conns: [<neuroml.nml.nml.Projection object at 0x7fc2d209c2d0>]: pop_ca3 -> pop_ivy, ['syn_ca3_to_ivy']\n",
      "OpenCortex >>> Adding projection: proj_pop_ivy_pop_cck: <neuroml.nml.nml.Cell object at 0x7fc2debf6390> ({'soma_group': [0, 2]}) -> <neuroml.nml.nml.Cell object at 0x7fc2debcd050> ({'dendrite_list_50_to_200': [31, 32, 30, 23, 24, 25, 26, 13, 14, 15, 3, 4, 5]})\n",
      "OpenCortex >>> Adding convergent projection with {'dendrite_list_50_to_200': 96} conns: [<neuroml.nml.nml.Projection object at 0x7fc2d1f95c90>]: pop_ivy -> pop_cck, ['syn_ivy_to_cck']\n",
      "OpenCortex >>> Adding projection: proj_pop_pvbasket_pop_bistratified: <neuroml.nml.nml.Cell object at 0x7fc2de8d3e50> ({'soma_group': [0, 2]}) -> <neuroml.nml.nml.Cell object at 0x7fc2dec20590> ({'soma_group': [0, 2]})\n",
      "OpenCortex >>> Adding convergent projection with {'soma_group': 39} conns: [<neuroml.nml.nml.Projection object at 0x7fc2d1f95c50>]: pop_pvbasket -> pop_bistratified, ['syn_pvbasket_to_bistratified']\n",
      "OpenCortex >>> Adding projection: proj_pop_bistratified_pop_bistratified: <neuroml.nml.nml.Cell object at 0x7fc2dec20590> ({'soma_group': [0, 2]}) -> <neuroml.nml.nml.Cell object at 0x7fc2dec20590> ({'dendrite_list_50_to_200': [31, 32, 30, 23, 24, 25, 26, 13, 14, 15, 3, 4, 5]})\n",
      "OpenCortex >>> Adding convergent projection with {'dendrite_list_50_to_200': 16} conns: [<neuroml.nml.nml.Projection object at 0x7fc2d1fa4650>]: pop_bistratified -> pop_bistratified, ['syn_bistratified_to_bistratified']\n",
      "OpenCortex >>> Adding projection: proj_pop_pvbasket_pop_poolosyn: <neuroml.nml.nml.Cell object at 0x7fc2de8d3e50> ({'soma_group': [0, 2]}) -> <neuroml.nml.nml.Cell object at 0x7fc2deb54a10> ({'soma_group': [0, 2, 3, 4, 5, 6, 7, 8, 9, 10, 11, 12, 13, 14, 15, 16, 17, 18, 19, 20, 21, 22, 23, 24, 25, 26]})\n",
      "OpenCortex >>> Adding convergent projection with {'soma_group': 17} conns: [<neuroml.nml.nml.Projection object at 0x7fc2d1fa8110>]: pop_pvbasket -> pop_poolosyn, ['syn_pvbasket_to_poolosyn']\n",
      "OpenCortex >>> Adding projection: proj_pop_olm_pop_cck: <neuroml.nml.nml.Cell object at 0x7fc2deb47f10> ({'soma_group': [0, 2]}) -> <neuroml.nml.nml.Cell object at 0x7fc2debcd050> ({'apical_list_200_to_1000': [33, 34, 27, 28, 19, 20, 21, 22, 11, 12, 16, 17, 18, 6, 7, 8, 9, 10]})\n",
      "OpenCortex >>> Adding convergent projection with {'apical_list_200_to_1000': 40} conns: [<neuroml.nml.nml.Projection object at 0x7fc2d1eaed90>]: pop_olm -> pop_cck, ['syn_olm_to_cck']\n",
      "OpenCortex >>> Adding projection: proj_pop_pvbasket_pop_pvbasket: <neuroml.nml.nml.Cell object at 0x7fc2de8d3e50> ({'soma_group': [0, 2]}) -> <neuroml.nml.nml.Cell object at 0x7fc2de8d3e50> ({'soma_group': [0, 2]})\n",
      "OpenCortex >>> Adding convergent projection with {'soma_group': 39} conns: [<neuroml.nml.nml.Projection object at 0x7fc2d1eaedd0>]: pop_pvbasket -> pop_pvbasket, ['syn_pvbasket_to_pvbasket']\n",
      "OpenCortex >>> Adding projection: proj_pop_ec_pop_cck: Undetermined (None) -> <neuroml.nml.nml.Cell object at 0x7fc2debcd050> ({'dendrite_list_200_to_1000': [33, 34, 27, 28, 19, 20, 21, 22, 11, 12, 16, 17, 18, 6, 7, 8, 9, 10]})\n",
      "OpenCortex >>> Adding convergent projection with {'dendrite_list_200_to_1000': 559} conns: [<neuroml.nml.nml.Projection object at 0x7fc2d1eb9d10>]: pop_ec -> pop_cck, ['syn_ec_to_cck']\n",
      "OpenCortex >>> Adding projection: proj_pop_bistratified_pop_cck: <neuroml.nml.nml.Cell object at 0x7fc2dec20590> ({'soma_group': [0, 2]}) -> <neuroml.nml.nml.Cell object at 0x7fc2debcd050> ({'dendrite_list_50_to_200': [31, 32, 30, 23, 24, 25, 26, 13, 14, 15, 3, 4, 5]})\n",
      "OpenCortex >>> Adding convergent projection with {'dendrite_list_50_to_200': 16} conns: [<neuroml.nml.nml.Projection object at 0x7fc2d1eb9d90>]: pop_bistratified -> pop_cck, ['syn_bistratified_to_cck']\n",
      "OpenCortex >>> Adding projection: proj_pop_ngf_pop_poolosyn_syn_ngf_to_poolosyn_A: <neuroml.nml.nml.Cell object at 0x7fc2deb9f590> ({'soma_group': [0, 2]}) -> <neuroml.nml.nml.Cell object at 0x7fc2deb54a10> ({'apical_list_200_to_1000': [342, 343, 344, 345, 332, 333, 334, 335, 336, 337, 338, 339, 340, 341, 350, 351, 352, 353, 346, 347, 159, 160, 161, 162, 163, 164, 154, 155, 156, 157, 158, 136, 137, 138, 139, 132, 133, 134, 135, 130, 131, 128, 129, 354, 355, 356, 357, 358, 359, 360, 361, 362, 348, 349, 120, 121, 122, 123, 124, 125, 126, 127, 88, 89, 90, 91, 92, 93, 94, 95, 96, 97, 98, 99, 100, 101, 102, 103, 104, 105, 106, 107, 108, 109, 110, 111, 112, 113, 114, 115, 116, 117, 118, 119, 368, 369, 370, 245, 246, 247, 238, 239, 240, 241, 242, 243, 244, 229, 230, 231, 232, 225, 226, 227, 228, 235, 236, 237, 233, 234, 211, 212, 213, 214, 215, 216, 217, 207, 208, 209, 210, 223, 224, 218, 219, 220, 221, 222, 410, 411, 412, 413, 414, 415, 416, 417, 418, 419, 420, 421, 396, 397, 398, 399, 400, 401, 403, 404, 405, 406, 407, 408, 425, 426, 427, 428, 429, 431, 432, 433, 434, 435, 436, 437, 438, 448, 449, 199, 200, 201, 202, 203, 204, 205, 206, 193, 194, 195, 196, 197, 198, 186, 187, 188, 189, 190, 191, 192, 181, 182, 183, 184, 185, 177, 178, 179, 180, 151, 152, 153, 140, 141, 142, 143, 144, 145, 146, 147, 148, 149, 150, 460, 461, 462, 463, 464, 465, 466, 467, 468, 455, 456, 457, 473, 474, 475, 476, 496, 497, 498, 499, 490, 491, 301, 302, 295, 296, 297, 298, 299, 300, 293, 294, 290, 291, 292, 319, 320, 321, 322, 323, 315, 316, 317, 318, 311, 312, 313, 314, 303, 304, 305, 306, 307, 308, 309, 310, 328, 329, 330, 331, 324, 325, 326, 327, 56, 57, 58, 59, 60, 61, 62, 63, 64, 65, 66, 54, 55, 70, 71, 67, 68, 69, 74, 75, 76, 77, 78, 79, 80, 81, 82, 72, 73, 85, 86, 87, 83, 84, 393, 394, 395, 390, 391, 392, 168, 169, 170, 171, 172, 173, 174, 175, 176, 366, 367, 363, 364, 365, 371, 372, 373, 374, 375, 165, 166, 167, 381, 382, 376, 377, 378, 379, 380, 388, 389, 383, 384, 385, 386, 387, 264, 265, 266, 267, 268, 269, 270, 271, 272, 273, 274, 275, 276, 277, 278, 279, 280, 248, 249, 250, 251, 252, 253, 254, 255, 256, 257, 258, 259, 260, 261, 262, 263, 281, 282, 283, 284, 285, 286, 287, 288, 289]})\n",
      "OpenCortex >>> Adding projection: proj_pop_ngf_pop_poolosyn_syn_ngf_to_poolosyn_B: <neuroml.nml.nml.Cell object at 0x7fc2deb9f590> ({'soma_group': [0, 2]}) -> <neuroml.nml.nml.Cell object at 0x7fc2deb54a10> ({'apical_list_200_to_1000': [342, 343, 344, 345, 332, 333, 334, 335, 336, 337, 338, 339, 340, 341, 350, 351, 352, 353, 346, 347, 159, 160, 161, 162, 163, 164, 154, 155, 156, 157, 158, 136, 137, 138, 139, 132, 133, 134, 135, 130, 131, 128, 129, 354, 355, 356, 357, 358, 359, 360, 361, 362, 348, 349, 120, 121, 122, 123, 124, 125, 126, 127, 88, 89, 90, 91, 92, 93, 94, 95, 96, 97, 98, 99, 100, 101, 102, 103, 104, 105, 106, 107, 108, 109, 110, 111, 112, 113, 114, 115, 116, 117, 118, 119, 368, 369, 370, 245, 246, 247, 238, 239, 240, 241, 242, 243, 244, 229, 230, 231, 232, 225, 226, 227, 228, 235, 236, 237, 233, 234, 211, 212, 213, 214, 215, 216, 217, 207, 208, 209, 210, 223, 224, 218, 219, 220, 221, 222, 410, 411, 412, 413, 414, 415, 416, 417, 418, 419, 420, 421, 396, 397, 398, 399, 400, 401, 403, 404, 405, 406, 407, 408, 425, 426, 427, 428, 429, 431, 432, 433, 434, 435, 436, 437, 438, 448, 449, 199, 200, 201, 202, 203, 204, 205, 206, 193, 194, 195, 196, 197, 198, 186, 187, 188, 189, 190, 191, 192, 181, 182, 183, 184, 185, 177, 178, 179, 180, 151, 152, 153, 140, 141, 142, 143, 144, 145, 146, 147, 148, 149, 150, 460, 461, 462, 463, 464, 465, 466, 467, 468, 455, 456, 457, 473, 474, 475, 476, 496, 497, 498, 499, 490, 491, 301, 302, 295, 296, 297, 298, 299, 300, 293, 294, 290, 291, 292, 319, 320, 321, 322, 323, 315, 316, 317, 318, 311, 312, 313, 314, 303, 304, 305, 306, 307, 308, 309, 310, 328, 329, 330, 331, 324, 325, 326, 327, 56, 57, 58, 59, 60, 61, 62, 63, 64, 65, 66, 54, 55, 70, 71, 67, 68, 69, 74, 75, 76, 77, 78, 79, 80, 81, 82, 72, 73, 85, 86, 87, 83, 84, 393, 394, 395, 390, 391, 392, 168, 169, 170, 171, 172, 173, 174, 175, 176, 366, 367, 363, 364, 365, 371, 372, 373, 374, 375, 165, 166, 167, 381, 382, 376, 377, 378, 379, 380, 388, 389, 383, 384, 385, 386, 387, 264, 265, 266, 267, 268, 269, 270, 271, 272, 273, 274, 275, 276, 277, 278, 279, 280, 248, 249, 250, 251, 252, 253, 254, 255, 256, 257, 258, 259, 260, 261, 262, 263, 281, 282, 283, 284, 285, 286, 287, 288, 289]})\n",
      "OpenCortex >>> Adding convergent projection with {'apical_list_200_to_1000': 14} conns: [<neuroml.nml.nml.Projection object at 0x7fc2d1e87710>, <neuroml.nml.nml.Projection object at 0x7fc2d1e87750>]: pop_ngf -> pop_poolosyn, ['syn_ngf_to_poolosyn_A', 'syn_ngf_to_poolosyn_B']\n",
      "OpenCortex >>> Adding projection: proj_pop_ivy_pop_sca: <neuroml.nml.nml.Cell object at 0x7fc2debf6390> ({'soma_group': [0, 2]}) -> <neuroml.nml.nml.Cell object at 0x7fc2de8fc910> ({'dendrite_list_50_to_200': [31, 32, 30, 24, 25, 26, 13, 14, 15, 3, 4, 5]})\n",
      "OpenCortex >>> Adding convergent projection with {'dendrite_list_50_to_200': 102} conns: [<neuroml.nml.nml.Projection object at 0x7fc2d1ded9d0>]: pop_ivy -> pop_sca, ['syn_ivy_to_sca']\n",
      "OpenCortex >>> Adding projection: proj_pop_olm_pop_olm: <neuroml.nml.nml.Cell object at 0x7fc2deb47f10> ({'soma_group': [0, 2]}) -> <neuroml.nml.nml.Cell object at 0x7fc2deb47f10> ({'dendrite_list_200_to_1000': [4, 6]})\n",
      "OpenCortex >>> Adding convergent projection with {'dendrite_list_200_to_1000': 6} conns: [<neuroml.nml.nml.Projection object at 0x7fc2d1d7d810>]: pop_olm -> pop_olm, ['syn_olm_to_olm']\n",
      "OpenCortex >>> Adding projection: proj_pop_poolosyn_pop_bistratified: <neuroml.nml.nml.Cell object at 0x7fc2deb54a10> ({'soma_group': [0, 2, 3, 4, 5, 6, 7, 8, 9, 10, 11, 12, 13, 14, 15, 16, 17, 18, 19, 20, 21, 22, 23, 24, 25, 26]}) -> <neuroml.nml.nml.Cell object at 0x7fc2dec20590> ({'apical_list_100_to_1000': [31, 32, 33, 34, 27, 28, 30, 25, 26, 19, 20, 21, 22, 11, 12, 14, 15, 16, 17, 18, 4, 5, 6, 7, 8, 9, 10]})\n",
      "OpenCortex >>> Adding convergent projection with {'apical_list_100_to_1000': 366} conns: [<neuroml.nml.nml.Projection object at 0x7fc2d1d7d890>]: pop_poolosyn -> pop_bistratified, ['syn_poolosyn_to_bistratified']\n",
      "OpenCortex >>> Adding projection: proj_pop_olm_pop_poolosyn: <neuroml.nml.nml.Cell object at 0x7fc2deb47f10> ({'soma_group': [0, 2]}) -> <neuroml.nml.nml.Cell object at 0x7fc2deb54a10> ({'apical_list_200_to_1000': [342, 343, 344, 345, 332, 333, 334, 335, 336, 337, 338, 339, 340, 341, 350, 351, 352, 353, 346, 347, 159, 160, 161, 162, 163, 164, 154, 155, 156, 157, 158, 136, 137, 138, 139, 132, 133, 134, 135, 130, 131, 128, 129, 354, 355, 356, 357, 358, 359, 360, 361, 362, 348, 349, 120, 121, 122, 123, 124, 125, 126, 127, 88, 89, 90, 91, 92, 93, 94, 95, 96, 97, 98, 99, 100, 101, 102, 103, 104, 105, 106, 107, 108, 109, 110, 111, 112, 113, 114, 115, 116, 117, 118, 119, 368, 369, 370, 245, 246, 247, 238, 239, 240, 241, 242, 243, 244, 229, 230, 231, 232, 225, 226, 227, 228, 235, 236, 237, 233, 234, 211, 212, 213, 214, 215, 216, 217, 207, 208, 209, 210, 223, 224, 218, 219, 220, 221, 222, 410, 411, 412, 413, 414, 415, 416, 417, 418, 419, 420, 421, 396, 397, 398, 399, 400, 401, 403, 404, 405, 406, 407, 408, 425, 426, 427, 428, 429, 431, 432, 433, 434, 435, 436, 437, 438, 448, 449, 199, 200, 201, 202, 203, 204, 205, 206, 193, 194, 195, 196, 197, 198, 186, 187, 188, 189, 190, 191, 192, 181, 182, 183, 184, 185, 177, 178, 179, 180, 151, 152, 153, 140, 141, 142, 143, 144, 145, 146, 147, 148, 149, 150, 460, 461, 462, 463, 464, 465, 466, 467, 468, 455, 456, 457, 473, 474, 475, 476, 496, 497, 498, 499, 490, 491, 301, 302, 295, 296, 297, 298, 299, 300, 293, 294, 290, 291, 292, 319, 320, 321, 322, 323, 315, 316, 317, 318, 311, 312, 313, 314, 303, 304, 305, 306, 307, 308, 309, 310, 328, 329, 330, 331, 324, 325, 326, 327, 56, 57, 58, 59, 60, 61, 62, 63, 64, 65, 66, 54, 55, 70, 71, 67, 68, 69, 74, 75, 76, 77, 78, 79, 80, 81, 82, 72, 73, 85, 86, 87, 83, 84, 393, 394, 395, 390, 391, 392, 168, 169, 170, 171, 172, 173, 174, 175, 176, 366, 367, 363, 364, 365, 371, 372, 373, 374, 375, 165, 166, 167, 381, 382, 376, 377, 378, 379, 380, 388, 389, 383, 384, 385, 386, 387, 264, 265, 266, 267, 268, 269, 270, 271, 272, 273, 274, 275, 276, 277, 278, 279, 280, 248, 249, 250, 251, 252, 253, 254, 255, 256, 257, 258, 259, 260, 261, 262, 263, 281, 282, 283, 284, 285, 286, 287, 288, 289]})\n",
      "OpenCortex >>> Adding convergent projection with {'apical_list_200_to_1000': 8} conns: [<neuroml.nml.nml.Projection object at 0x7fc2d1d7d8d0>]: pop_olm -> pop_poolosyn, ['syn_olm_to_poolosyn']\n",
      "OpenCortex >>> Adding projection: proj_pop_ivy_pop_olm: <neuroml.nml.nml.Cell object at 0x7fc2debf6390> ({'soma_group': [0, 2]}) -> <neuroml.nml.nml.Cell object at 0x7fc2deb47f10> ({'dendrite_list_50_to_200': [3, 5]})\n",
      "OpenCortex >>> Adding convergent projection with {'dendrite_list_50_to_200': 136} conns: [<neuroml.nml.nml.Projection object at 0x7fc2d1cf22d0>]: pop_ivy -> pop_olm, ['syn_ivy_to_olm']\n",
      "OpenCortex >>> Adding projection: proj_pop_pvbasket_pop_sca: <neuroml.nml.nml.Cell object at 0x7fc2de8d3e50> ({'soma_group': [0, 2]}) -> <neuroml.nml.nml.Cell object at 0x7fc2de8fc910> ({'soma_group': [0, 2]})\n",
      "OpenCortex >>> Adding convergent projection with {'soma_group': 24} conns: [<neuroml.nml.nml.Projection object at 0x7fc2d1d03ad0>]: pop_pvbasket -> pop_sca, ['syn_pvbasket_to_sca']\n",
      "OpenCortex >>> Adding projection: proj_pop_poolosyn_pop_axoaxonic: <neuroml.nml.nml.Cell object at 0x7fc2deb54a10> ({'soma_group': [0, 2, 3, 4, 5, 6, 7, 8, 9, 10, 11, 12, 13, 14, 15, 16, 17, 18, 19, 20, 21, 22, 23, 24, 25, 26]}) -> <neuroml.nml.nml.Cell object at 0x7fc2dec74d10> ({'apical_list_100_to_1000': [31, 32, 33, 34, 27, 28, 30, 25, 26, 19, 20, 21, 22, 11, 12, 14, 15, 16, 17, 18, 4, 5, 6, 7, 8, 9, 10]})\n",
      "OpenCortex >>> Adding convergent projection with {'apical_list_100_to_1000': 162} conns: [<neuroml.nml.nml.Projection object at 0x7fc2d1d03b50>]: pop_poolosyn -> pop_axoaxonic, ['syn_poolosyn_to_axoaxonic']\n",
      "OpenCortex >>> Adding projection: proj_pop_bistratified_pop_ivy: <neuroml.nml.nml.Cell object at 0x7fc2dec20590> ({'soma_group': [0, 2]}) -> <neuroml.nml.nml.Cell object at 0x7fc2debf6390> ({'dendrite_list_50_to_200': [31, 32, 30, 23, 24, 25, 26, 13, 14, 15, 3, 4, 5]})\n",
      "OpenCortex >>> Adding convergent projection with {'dendrite_list_50_to_200': 3} conns: [<neuroml.nml.nml.Projection object at 0x7fc2d1d0d1d0>]: pop_bistratified -> pop_ivy, ['syn_bistratified_to_ivy']\n",
      "OpenCortex >>> Adding projection: proj_pop_poolosyn_pop_ivy: <neuroml.nml.nml.Cell object at 0x7fc2deb54a10> ({'soma_group': [0, 2, 3, 4, 5, 6, 7, 8, 9, 10, 11, 12, 13, 14, 15, 16, 17, 18, 19, 20, 21, 22, 23, 24, 25, 26]}) -> <neuroml.nml.nml.Cell object at 0x7fc2debf6390> ({'apical_list_100_to_1000': [31, 32, 33, 34, 27, 28, 30, 25, 26, 19, 20, 21, 22, 11, 12, 14, 15, 16, 17, 18, 4, 5, 6, 7, 8, 9, 10]})\n",
      "OpenCortex >>> Adding convergent projection with {'apical_list_100_to_1000': 9} conns: [<neuroml.nml.nml.Projection object at 0x7fc2d1d0d450>]: pop_poolosyn -> pop_ivy, ['syn_poolosyn_to_ivy']\n",
      "OpenCortex >>> Adding projection: proj_pop_ec_pop_sca: Undetermined (None) -> <neuroml.nml.nml.Cell object at 0x7fc2de8fc910> ({'dendrite_list_200_to_1000': [33, 34, 27, 28, 19, 20, 21, 22, 11, 12, 16, 17, 18, 6, 7, 8, 9, 10]})\n",
      "OpenCortex >>> Adding convergent projection with {'dendrite_list_200_to_1000': 573} conns: [<neuroml.nml.nml.Projection object at 0x7fc2d1d0d490>]: pop_ec -> pop_sca, ['syn_ec_to_sca']\n",
      "OpenCortex >>> Adding projection: proj_pop_cck_pop_pvbasket: <neuroml.nml.nml.Cell object at 0x7fc2debcd050> ({'soma_group': [0, 2]}) -> <neuroml.nml.nml.Cell object at 0x7fc2de8d3e50> ({'soma_group': [0, 2]})\n",
      "OpenCortex >>> Adding convergent projection with {'soma_group': 12} conns: [<neuroml.nml.nml.Projection object at 0x7fc2d1c71d50>]: pop_cck -> pop_pvbasket, ['syn_cck_to_pvbasket']\n",
      "OpenCortex >>> Adding projection: proj_pop_olm_pop_axoaxonic: <neuroml.nml.nml.Cell object at 0x7fc2deb47f10> ({'soma_group': [0, 2]}) -> <neuroml.nml.nml.Cell object at 0x7fc2dec74d10> ({'apical_list_200_to_1000': [33, 34, 27, 28, 19, 20, 21, 22, 11, 12, 16, 17, 18, 6, 7, 8, 9, 10]})\n",
      "OpenCortex >>> Adding convergent projection with {'apical_list_200_to_1000': 8} conns: [<neuroml.nml.nml.Projection object at 0x7fc2d1c754d0>]: pop_olm -> pop_axoaxonic, ['syn_olm_to_axoaxonic']\n",
      "OpenCortex >>> Adding projection: proj_pop_axoaxonic_pop_poolosyn: <neuroml.nml.nml.Cell object at 0x7fc2dec74d10> ({'soma_group': [0, 2]}) -> <neuroml.nml.nml.Cell object at 0x7fc2deb54a10> ({'axon_group': [752, 753, 754, 755, 756, 757, 758, 759, 760, 761, 762, 763, 764, 765, 766, 767, 768]})\n",
      "OpenCortex >>> Adding convergent projection with {'axon_group': 6} conns: [<neuroml.nml.nml.Projection object at 0x7fc2d1c75510>]: pop_axoaxonic -> pop_poolosyn, ['syn_axoaxonic_to_poolosyn']\n",
      "OpenCortex >>> Adding projection: proj_pop_bistratified_pop_poolosyn: <neuroml.nml.nml.Cell object at 0x7fc2dec20590> ({'soma_group': [0, 2]}) -> <neuroml.nml.nml.Cell object at 0x7fc2deb54a10> ({'dendrite_list_50_to_200': [543, 544, 545, 546, 547, 537, 538, 539, 540, 541, 542, 535, 536, 533, 534, 550, 551, 552, 553, 554, 555, 556, 597, 598, 599, 588, 589, 590, 591, 592, 593, 594, 566, 567, 568, 569, 562, 563, 564, 565, 584, 585, 586, 579, 580, 581, 582, 623, 624, 625, 626, 627, 628, 622, 610, 611, 612, 604, 605, 606, 607, 608, 37, 38, 39, 42, 43, 40, 41, 47, 48, 44, 45, 46, 559, 560, 561, 633, 634, 635, 636, 637, 629, 630, 631, 632, 639, 640, 641, 642, 643, 644, 645, 651, 652, 653, 654, 655, 649, 650, 656, 657, 658, 659, 660, 661, 669, 670, 671, 672, 666, 667, 668, 689, 690, 691, 692, 673, 674, 675, 676, 677, 693, 694, 695, 696, 697, 698, 699, 701, 702, 703, 704, 705, 706, 707, 732, 733, 726, 727, 728, 729, 730, 717, 718, 719, 720, 709, 710, 711, 745, 746, 747, 748, 749, 750, 751, 735, 736, 737, 738, 739, 740, 741, 742, 409, 422, 423, 402, 439, 440, 441, 442, 424, 430, 443, 444, 445, 446, 447, 450, 451, 452, 458, 459, 453, 454, 477, 478, 469, 470, 471, 472, 481, 482, 479, 480, 485, 486, 483, 484, 492, 493, 494, 495, 487, 488, 489, 51, 52, 49, 50, 53, 508, 509, 510, 511, 512, 513, 514, 515, 516, 517, 518, 519, 520, 521, 522, 523, 500, 501, 506, 507]})\n",
      "OpenCortex >>> Adding convergent projection with {'dendrite_list_50_to_200': 10} conns: [<neuroml.nml.nml.Projection object at 0x7fc2d1c75990>]: pop_bistratified -> pop_poolosyn, ['syn_bistratified_to_poolosyn']\n",
      "OpenCortex >>> Adding projection: proj_pop_sca_pop_ivy: <neuroml.nml.nml.Cell object at 0x7fc2de8fc910> ({'soma_group': [0, 2]}) -> <neuroml.nml.nml.Cell object at 0x7fc2debf6390> ({'dendrite_list_50_to_200': [31, 32, 30, 23, 24, 25, 26, 13, 14, 15, 3, 4, 5]})\n",
      "OpenCortex >>> Adding convergent projection with {'dendrite_list_50_to_200': 2} conns: [<neuroml.nml.nml.Projection object at 0x7fc2d1bf36d0>]: pop_sca -> pop_ivy, ['syn_sca_to_ivy']\n",
      "OpenCortex >>> Adding projection: proj_pop_ca3_pop_pvbasket: Undetermined (None) -> <neuroml.nml.nml.Cell object at 0x7fc2de8d3e50> ({'dendrite_list_50_to_200': [31, 32, 30, 23, 24, 25, 26, 13, 14, 15, 3, 4, 5]})\n",
      "OpenCortex >>> Adding convergent projection with {'dendrite_list_50_to_200': 6047} conns: [<neuroml.nml.nml.Projection object at 0x7fc2d1bf3910>]: pop_ca3 -> pop_pvbasket, ['syn_ca3_to_pvbasket']\n",
      "OpenCortex >>> Adding projection: proj_pop_pvbasket_pop_cck: <neuroml.nml.nml.Cell object at 0x7fc2de8d3e50> ({'soma_group': [0, 2]}) -> <neuroml.nml.nml.Cell object at 0x7fc2debcd050> ({'soma_group': [0, 2]})\n",
      "OpenCortex >>> Adding convergent projection with {'soma_group': 38} conns: [<neuroml.nml.nml.Projection object at 0x7fc2d1917910>]: pop_pvbasket -> pop_cck, ['syn_pvbasket_to_cck']\n",
      "OpenCortex >>> Adding projection: proj_pop_ivy_pop_ngf: <neuroml.nml.nml.Cell object at 0x7fc2debf6390> ({'soma_group': [0, 2]}) -> <neuroml.nml.nml.Cell object at 0x7fc2deb9f590> ({'dendrite_list_50_to_200': [31, 32, 30, 23, 24, 25, 26, 13, 14, 15, 3, 4, 5]})\n",
      "OpenCortex >>> Adding convergent projection with {'dendrite_list_50_to_200': 28} conns: [<neuroml.nml.nml.Projection object at 0x7fc2d191ddd0>]: pop_ivy -> pop_ngf, ['syn_ivy_to_ngf']\n",
      "OpenCortex >>> Adding projection: proj_pop_ec_pop_axoaxonic: Undetermined (None) -> <neuroml.nml.nml.Cell object at 0x7fc2dec74d10> ({'dendrite_list_200_to_1000': [33, 34, 27, 28, 19, 20, 21, 22, 11, 12, 16, 17, 18, 6, 7, 8, 9, 10]})\n",
      "OpenCortex >>> Adding convergent projection with {'dendrite_list_200_to_1000': 485} conns: [<neuroml.nml.nml.Projection object at 0x7fc2d1924410>]: pop_ec -> pop_axoaxonic, ['syn_ec_to_axoaxonic']\n",
      "OpenCortex >>> Adding projection: proj_pop_olm_pop_ngf: <neuroml.nml.nml.Cell object at 0x7fc2deb47f10> ({'soma_group': [0, 2]}) -> <neuroml.nml.nml.Cell object at 0x7fc2deb9f590> ({'apical_list_200_to_1000': [33, 34, 27, 28, 19, 20, 21, 22, 11, 12, 16, 17, 18, 6, 7, 8, 9, 10]})\n",
      "OpenCortex >>> Adding convergent projection with {'apical_list_200_to_1000': 13} conns: [<neuroml.nml.nml.Projection object at 0x7fc2d18e2650>]: pop_olm -> pop_ngf, ['syn_olm_to_ngf']\n",
      "OpenCortex >>> Adding projection: proj_pop_cck_pop_poolosyn: <neuroml.nml.nml.Cell object at 0x7fc2debcd050> ({'soma_group': [0, 2]}) -> <neuroml.nml.nml.Cell object at 0x7fc2deb54a10> ({'soma_group': [0, 2, 3, 4, 5, 6, 7, 8, 9, 10, 11, 12, 13, 14, 15, 16, 17, 18, 19, 20, 21, 22, 23, 24, 25, 26]})\n",
      "OpenCortex >>> Adding convergent projection with {'soma_group': 13} conns: [<neuroml.nml.nml.Projection object at 0x7fc2d18e70d0>]: pop_cck -> pop_poolosyn, ['syn_cck_to_poolosyn']\n",
      "OpenCortex >>> Adding projection: proj_pop_olm_pop_sca: <neuroml.nml.nml.Cell object at 0x7fc2deb47f10> ({'soma_group': [0, 2]}) -> <neuroml.nml.nml.Cell object at 0x7fc2de8fc910> ({'apical_list_200_to_1000': [33, 34, 27, 28, 19, 20, 21, 22, 11, 12, 16, 17, 18, 6, 7, 8, 9, 10]})\n",
      "OpenCortex >>> Adding convergent projection with {'apical_list_200_to_1000': 40} conns: [<neuroml.nml.nml.Projection object at 0x7fc2d1850b10>]: pop_olm -> pop_sca, ['syn_olm_to_sca']\n",
      "OpenCortex >>> Adding projection: proj_pop_sca_pop_cck: <neuroml.nml.nml.Cell object at 0x7fc2de8fc910> ({'soma_group': [0, 2]}) -> <neuroml.nml.nml.Cell object at 0x7fc2debcd050> ({'dendrite_list_50_to_200': [31, 32, 30, 23, 24, 25, 26, 13, 14, 15, 3, 4, 5]})\n",
      "OpenCortex >>> Adding convergent projection with {'dendrite_list_50_to_200': 6} conns: [<neuroml.nml.nml.Projection object at 0x7fc2d1855a50>]: pop_sca -> pop_cck, ['syn_sca_to_cck']\n",
      "OpenCortex >>> Adding projection: proj_pop_cck_pop_olm: <neuroml.nml.nml.Cell object at 0x7fc2debcd050> ({'soma_group': [0, 2]}) -> <neuroml.nml.nml.Cell object at 0x7fc2deb47f10> ({'soma_group': [0, 2]})\n",
      "OpenCortex >>> Adding convergent projection with {'soma_group': 20} conns: [<neuroml.nml.nml.Projection object at 0x7fc2d1855f50>]: pop_cck -> pop_olm, ['syn_cck_to_olm']\n",
      "OpenCortex >>> Adding projection: proj_pop_ca3_pop_sca: Undetermined (None) -> <neuroml.nml.nml.Cell object at 0x7fc2de8fc910> ({'dendrite_list_50_to_200': [31, 32, 30, 24, 25, 26, 13, 14, 15, 3, 4, 5]})\n",
      "OpenCortex >>> Adding convergent projection with {'dendrite_list_50_to_200': 1940} conns: [<neuroml.nml.nml.Projection object at 0x7fc2d185af90>]: pop_ca3 -> pop_sca, ['syn_ca3_to_sca']\n",
      "OpenCortex >>> Adding projection: proj_pop_ivy_pop_poolosyn: <neuroml.nml.nml.Cell object at 0x7fc2debf6390> ({'soma_group': [0, 2]}) -> <neuroml.nml.nml.Cell object at 0x7fc2deb54a10> ({'dendrite_list_50_to_200': [543, 544, 545, 546, 547, 537, 538, 539, 540, 541, 542, 535, 536, 533, 534, 550, 551, 552, 553, 554, 555, 556, 597, 598, 599, 588, 589, 590, 591, 592, 593, 594, 566, 567, 568, 569, 562, 563, 564, 565, 584, 585, 586, 579, 580, 581, 582, 623, 624, 625, 626, 627, 628, 622, 610, 611, 612, 604, 605, 606, 607, 608, 37, 38, 39, 42, 43, 40, 41, 47, 48, 44, 45, 46, 559, 560, 561, 633, 634, 635, 636, 637, 629, 630, 631, 632, 639, 640, 641, 642, 643, 644, 645, 651, 652, 653, 654, 655, 649, 650, 656, 657, 658, 659, 660, 661, 669, 670, 671, 672, 666, 667, 668, 689, 690, 691, 692, 673, 674, 675, 676, 677, 693, 694, 695, 696, 697, 698, 699, 701, 702, 703, 704, 705, 706, 707, 732, 733, 726, 727, 728, 729, 730, 717, 718, 719, 720, 709, 710, 711, 745, 746, 747, 748, 749, 750, 751, 735, 736, 737, 738, 739, 740, 741, 742, 409, 422, 423, 402, 439, 440, 441, 442, 424, 430, 443, 444, 445, 446, 447, 450, 451, 452, 458, 459, 453, 454, 477, 478, 469, 470, 471, 472, 481, 482, 479, 480, 485, 486, 483, 484, 492, 493, 494, 495, 487, 488, 489, 51, 52, 49, 50, 53, 508, 509, 510, 511, 512, 513, 514, 515, 516, 517, 518, 519, 520, 521, 522, 523, 500, 501, 506, 507]})\n",
      "OpenCortex >>> Adding convergent projection with {'dendrite_list_50_to_200': 42} conns: [<neuroml.nml.nml.Projection object at 0x7fc2d1758690>]: pop_ivy -> pop_poolosyn, ['syn_ivy_to_poolosyn']\n",
      "OpenCortex >>> Adding projection: proj_pop_cck_pop_axoaxonic: <neuroml.nml.nml.Cell object at 0x7fc2debcd050> ({'soma_group': [0, 2]}) -> <neuroml.nml.nml.Cell object at 0x7fc2dec74d10> ({'soma_group': [0, 2]})\n",
      "OpenCortex >>> Adding convergent projection with {'soma_group': 12} conns: [<neuroml.nml.nml.Projection object at 0x7fc2d15b4210>]: pop_cck -> pop_axoaxonic, ['syn_cck_to_axoaxonic']\n",
      "OpenCortex >>> Adding projection: proj_pop_ngf_pop_ngf_syn_ngf_to_ngf_A: <neuroml.nml.nml.Cell object at 0x7fc2deb9f590> ({'soma_group': [0, 2]}) -> <neuroml.nml.nml.Cell object at 0x7fc2deb9f590> ({'apical_list_200_to_1000': [33, 34, 27, 28, 19, 20, 21, 22, 11, 12, 16, 17, 18, 6, 7, 8, 9, 10]})\n",
      "OpenCortex >>> Adding projection: proj_pop_ngf_pop_ngf_syn_ngf_to_ngf_B: <neuroml.nml.nml.Cell object at 0x7fc2deb9f590> ({'soma_group': [0, 2]}) -> <neuroml.nml.nml.Cell object at 0x7fc2deb9f590> ({'apical_list_200_to_1000': [33, 34, 27, 28, 19, 20, 21, 22, 11, 12, 16, 17, 18, 6, 7, 8, 9, 10]})\n",
      "OpenCortex >>> Adding convergent projection with {'apical_list_200_to_1000': 17} conns: [<neuroml.nml.nml.Projection object at 0x7fc2d15b4910>, <neuroml.nml.nml.Projection object at 0x7fc2d15b4950>]: pop_ngf -> pop_ngf, ['syn_ngf_to_ngf_A', 'syn_ngf_to_ngf_B']\n",
      "OpenCortex >>> Adding projection: proj_pop_ca3_pop_axoaxonic: Undetermined (None) -> <neuroml.nml.nml.Cell object at 0x7fc2dec74d10> ({'dendrite_list_50_to_200': [31, 32, 30, 23, 24, 25, 26, 13, 14, 15, 3, 4, 5]})\n",
      "OpenCortex >>> Adding convergent projection with {'dendrite_list_50_to_200': 4170} conns: [<neuroml.nml.nml.Projection object at 0x7fc2d15b4a50>]: pop_ca3 -> pop_axoaxonic, ['syn_ca3_to_axoaxonic']\n",
      "OpenCortex >>> Adding projection: proj_pop_sca_pop_axoaxonic: <neuroml.nml.nml.Cell object at 0x7fc2de8fc910> ({'soma_group': [0, 2]}) -> <neuroml.nml.nml.Cell object at 0x7fc2dec74d10> ({'dendrite_list_50_to_200': [31, 32, 30, 23, 24, 25, 26, 13, 14, 15, 3, 4, 5]})\n",
      "OpenCortex >>> Adding convergent projection with {'dendrite_list_50_to_200': 1} conns: [<neuroml.nml.nml.Projection object at 0x7fc2d15b4a90>]: pop_sca -> pop_axoaxonic, ['syn_sca_to_axoaxonic']\n",
      "OpenCortex >>> Adding projection: proj_pop_cck_pop_sca: <neuroml.nml.nml.Cell object at 0x7fc2debcd050> ({'soma_group': [0, 2]}) -> <neuroml.nml.nml.Cell object at 0x7fc2de8fc910> ({'soma_group': [0, 2]})\n",
      "OpenCortex >>> Adding convergent projection with {'soma_group': 27} conns: [<neuroml.nml.nml.Projection object at 0x7fc2d13e2290>]: pop_cck -> pop_sca, ['syn_cck_to_sca']\n",
      "OpenCortex >>> Adding projection: proj_pop_olm_pop_pvbasket: <neuroml.nml.nml.Cell object at 0x7fc2deb47f10> ({'soma_group': [0, 2]}) -> <neuroml.nml.nml.Cell object at 0x7fc2de8d3e50> ({'apical_list_200_to_1000': [33, 34, 27, 28, 19, 20, 21, 22, 11, 12, 16, 17, 18, 6, 7, 8, 9, 10]})\n",
      "OpenCortex >>> Adding convergent projection with {'apical_list_200_to_1000': 8} conns: [<neuroml.nml.nml.Projection object at 0x7fc2d13e5790>]: pop_olm -> pop_pvbasket, ['syn_olm_to_pvbasket']\n",
      "OpenCortex >>> Adding projection: proj_pop_sca_pop_poolosyn: <neuroml.nml.nml.Cell object at 0x7fc2de8fc910> ({'soma_group': [0, 2]}) -> <neuroml.nml.nml.Cell object at 0x7fc2deb54a10> ({'dendrite_list_50_to_200': [543, 544, 545, 546, 547, 537, 538, 539, 540, 541, 542, 535, 536, 533, 534, 550, 551, 552, 553, 554, 555, 556, 597, 598, 599, 588, 589, 590, 591, 592, 593, 594, 566, 567, 568, 569, 562, 563, 564, 565, 584, 585, 586, 579, 580, 581, 582, 623, 624, 625, 626, 627, 628, 622, 610, 611, 612, 604, 605, 606, 607, 608, 37, 38, 39, 42, 43, 40, 41, 47, 48, 44, 45, 46, 559, 560, 561, 633, 634, 635, 636, 637, 629, 630, 631, 632, 639, 640, 641, 642, 643, 644, 645, 651, 652, 653, 654, 655, 649, 650, 656, 657, 658, 659, 660, 661, 669, 670, 671, 672, 666, 667, 668, 689, 690, 691, 692, 673, 674, 675, 676, 677, 693, 694, 695, 696, 697, 698, 699, 701, 702, 703, 704, 705, 706, 707, 732, 733, 726, 727, 728, 729, 730, 717, 718, 719, 720, 709, 710, 711, 745, 746, 747, 748, 749, 750, 751, 735, 736, 737, 738, 739, 740, 741, 742, 409, 422, 423, 402, 439, 440, 441, 442, 424, 430, 443, 444, 445, 446, 447, 450, 451, 452, 458, 459, 453, 454, 477, 478, 469, 470, 471, 472, 481, 482, 479, 480, 485, 486, 483, 484, 492, 493, 494, 495, 487, 488, 489, 51, 52, 49, 50, 53, 508, 509, 510, 511, 512, 513, 514, 515, 516, 517, 518, 519, 520, 521, 522, 523, 500, 501, 506, 507]})\n",
      "OpenCortex >>> Adding convergent projection with {'dendrite_list_50_to_200': 2} conns: [<neuroml.nml.nml.Projection object at 0x7fc2d13e5c50>]: pop_sca -> pop_poolosyn, ['syn_sca_to_poolosyn']\n",
      "OpenCortex >>> Adding projection: proj_pop_poolosyn_pop_pvbasket: <neuroml.nml.nml.Cell object at 0x7fc2deb54a10> ({'soma_group': [0, 2, 3, 4, 5, 6, 7, 8, 9, 10, 11, 12, 13, 14, 15, 16, 17, 18, 19, 20, 21, 22, 23, 24, 25, 26]}) -> <neuroml.nml.nml.Cell object at 0x7fc2de8d3e50> ({'apical_list_100_to_1000': [31, 32, 33, 34, 27, 28, 30, 25, 26, 19, 20, 21, 22, 11, 12, 14, 15, 16, 17, 18, 4, 5, 6, 7, 8, 9, 10]})\n",
      "OpenCortex >>> Adding convergent projection with {'apical_list_100_to_1000': 424} conns: [<neuroml.nml.nml.Projection object at 0x7fc2d13e5c90>]: pop_poolosyn -> pop_pvbasket, ['syn_poolosyn_to_pvbasket']\n",
      "OpenCortex >>> Adding projection: proj_pop_ec_pop_poolosyn: Undetermined (None) -> <neuroml.nml.nml.Cell object at 0x7fc2deb54a10> ({'dendrite_list_200_to_1000': [342, 343, 344, 345, 332, 333, 334, 335, 336, 337, 338, 339, 340, 341, 350, 351, 352, 353, 346, 347, 159, 160, 161, 162, 163, 164, 154, 155, 156, 157, 158, 136, 137, 138, 139, 132, 133, 134, 135, 130, 131, 128, 129, 354, 355, 356, 357, 358, 359, 360, 361, 362, 348, 349, 120, 121, 122, 123, 124, 125, 126, 127, 88, 89, 90, 91, 92, 93, 94, 95, 96, 97, 98, 99, 100, 101, 102, 103, 104, 105, 106, 107, 108, 109, 110, 111, 112, 113, 114, 115, 116, 117, 118, 119, 368, 369, 370, 245, 246, 247, 238, 239, 240, 241, 242, 243, 244, 229, 230, 231, 232, 225, 226, 227, 228, 235, 236, 237, 233, 234, 211, 212, 213, 214, 215, 216, 217, 207, 208, 209, 210, 223, 224, 218, 219, 220, 221, 222, 410, 411, 412, 413, 414, 415, 416, 417, 418, 419, 420, 421, 396, 397, 398, 399, 400, 401, 403, 404, 405, 406, 407, 408, 425, 426, 427, 428, 429, 431, 432, 433, 434, 435, 436, 437, 438, 448, 449, 199, 200, 201, 202, 203, 204, 205, 206, 193, 194, 195, 196, 197, 198, 186, 187, 188, 189, 190, 191, 192, 181, 182, 183, 184, 185, 177, 178, 179, 180, 151, 152, 153, 140, 141, 142, 143, 144, 145, 146, 147, 148, 149, 150, 460, 461, 462, 463, 464, 465, 466, 467, 468, 455, 456, 457, 473, 474, 475, 476, 496, 497, 498, 499, 490, 491, 301, 302, 295, 296, 297, 298, 299, 300, 293, 294, 290, 291, 292, 319, 320, 321, 322, 323, 315, 316, 317, 318, 311, 312, 313, 314, 303, 304, 305, 306, 307, 308, 309, 310, 328, 329, 330, 331, 324, 325, 326, 327, 56, 57, 58, 59, 60, 61, 62, 63, 64, 65, 66, 54, 55, 70, 71, 67, 68, 69, 74, 75, 76, 77, 78, 79, 80, 81, 82, 72, 73, 85, 86, 87, 83, 84, 393, 394, 395, 390, 391, 392, 168, 169, 170, 171, 172, 173, 174, 175, 176, 366, 367, 363, 364, 365, 371, 372, 373, 374, 375, 165, 166, 167, 381, 382, 376, 377, 378, 379, 380, 388, 389, 383, 384, 385, 386, 387, 264, 265, 266, 267, 268, 269, 270, 271, 272, 273, 274, 275, 276, 277, 278, 279, 280, 248, 249, 250, 251, 252, 253, 254, 255, 256, 257, 258, 259, 260, 261, 262, 263, 281, 282, 283, 284, 285, 286, 287, 288, 289]})\n",
      "OpenCortex >>> Adding convergent projection with {'dendrite_list_200_to_1000': 1299} conns: [<neuroml.nml.nml.Projection object at 0x7fc2d132e850>]: pop_ec -> pop_poolosyn, ['syn_ec_to_poolosyn']\n",
      "OpenCortex >>> Adding projection: proj_pop_sca_pop_olm: <neuroml.nml.nml.Cell object at 0x7fc2de8fc910> ({'soma_group': [0, 2]}) -> <neuroml.nml.nml.Cell object at 0x7fc2deb47f10> ({'dendrite_list_50_to_200': [3, 5]})\n",
      "OpenCortex >>> Adding convergent projection with {'dendrite_list_50_to_200': 2} conns: [<neuroml.nml.nml.Projection object at 0x7fc2ce9dfc90>]: pop_sca -> pop_olm, ['syn_sca_to_olm']\n",
      "OpenCortex >>> Adding projection: proj_pop_poolosyn_pop_poolosyn: <neuroml.nml.nml.Cell object at 0x7fc2deb54a10> ({'soma_group': [0, 2, 3, 4, 5, 6, 7, 8, 9, 10, 11, 12, 13, 14, 15, 16, 17, 18, 19, 20, 21, 22, 23, 24, 25, 26]}) -> <neuroml.nml.nml.Cell object at 0x7fc2deb54a10> ({'apical_list_100_to_1000': [342, 343, 344, 345, 332, 333, 334, 335, 336, 337, 338, 339, 340, 341, 350, 351, 352, 353, 346, 347, 159, 160, 161, 162, 163, 164, 154, 155, 156, 157, 158, 136, 137, 138, 139, 132, 133, 134, 135, 130, 131, 128, 129, 354, 355, 356, 357, 358, 359, 360, 361, 362, 42, 43, 40, 41, 47, 48, 44, 45, 46, 348, 349, 120, 121, 122, 123, 124, 125, 126, 127, 88, 89, 90, 91, 92, 93, 94, 95, 96, 97, 98, 99, 100, 101, 102, 103, 104, 105, 106, 107, 108, 109, 110, 111, 112, 113, 114, 115, 116, 117, 118, 119, 368, 369, 370, 245, 246, 247, 238, 239, 240, 241, 242, 243, 244, 229, 230, 231, 232, 225, 226, 227, 228, 235, 236, 237, 233, 234, 211, 212, 213, 214, 215, 216, 217, 207, 208, 209, 210, 223, 224, 218, 219, 220, 221, 222, 409, 410, 411, 412, 413, 414, 415, 416, 417, 418, 419, 420, 421, 422, 423, 396, 397, 398, 399, 400, 401, 402, 403, 404, 405, 406, 407, 408, 439, 440, 441, 442, 424, 425, 426, 427, 428, 429, 430, 431, 432, 433, 434, 435, 436, 437, 438, 443, 444, 445, 446, 447, 448, 449, 450, 451, 452, 199, 200, 201, 202, 203, 204, 205, 206, 193, 194, 195, 196, 197, 198, 186, 187, 188, 189, 190, 191, 192, 181, 182, 183, 184, 185, 177, 178, 179, 180, 151, 152, 153, 140, 141, 142, 143, 144, 145, 146, 147, 148, 149, 150, 458, 459, 460, 461, 462, 463, 464, 465, 466, 467, 468, 453, 454, 455, 456, 457, 469, 470, 471, 472, 473, 474, 475, 476, 481, 482, 479, 480, 485, 486, 483, 484, 492, 493, 494, 495, 496, 497, 498, 499, 487, 488, 489, 490, 491, 301, 302, 295, 296, 297, 298, 299, 300, 293, 294, 290, 291, 292, 319, 320, 321, 322, 323, 315, 316, 317, 318, 311, 312, 313, 314, 303, 304, 305, 306, 307, 308, 309, 310, 328, 329, 330, 331, 324, 325, 326, 327, 51, 52, 49, 50, 56, 57, 58, 59, 60, 61, 62, 63, 64, 65, 66, 53, 54, 55, 70, 71, 67, 68, 69, 74, 75, 76, 77, 78, 79, 80, 81, 82, 72, 73, 85, 86, 87, 83, 84, 393, 394, 395, 390, 391, 392, 168, 169, 170, 171, 172, 173, 174, 175, 176, 366, 367, 363, 364, 365, 371, 372, 373, 374, 375, 165, 166, 167, 381, 382, 376, 377, 378, 379, 380, 388, 389, 383, 384, 385, 386, 387, 510, 511, 512, 515, 516, 517, 518, 521, 522, 523, 501, 264, 265, 266, 267, 268, 269, 270, 271, 272, 273, 274, 275, 276, 277, 278, 279, 280, 248, 249, 250, 251, 252, 253, 254, 255, 256, 257, 258, 259, 260, 261, 262, 263, 281, 282, 283, 284, 285, 286, 287, 288, 289]})\n",
      "OpenCortex >>> Adding convergent projection with {'apical_list_100_to_1000': 197} conns: [<neuroml.nml.nml.Projection object at 0x7fc2ce9dff10>]: pop_poolosyn -> pop_poolosyn, ['syn_poolosyn_to_poolosyn']\n",
      "OpenCortex >>> Adding projection: proj_pop_bistratified_pop_sca: <neuroml.nml.nml.Cell object at 0x7fc2dec20590> ({'soma_group': [0, 2]}) -> <neuroml.nml.nml.Cell object at 0x7fc2de8fc910> ({'dendrite_list_50_to_200': [31, 32, 30, 24, 25, 26, 13, 14, 15, 3, 4, 5]})\n",
      "OpenCortex >>> Adding convergent projection with {'dendrite_list_50_to_200': 17} conns: [<neuroml.nml.nml.Projection object at 0x7fc2ce34ee10>]: pop_bistratified -> pop_sca, ['syn_bistratified_to_sca']\n",
      "OpenCortex >>> Adding projection: proj_pop_ec_pop_bistratified: Undetermined (None) -> <neuroml.nml.nml.Cell object at 0x7fc2dec20590> ({'dendrite_list_200_to_1000': [33, 34, 27, 28, 19, 20, 21, 22, 11, 12, 16, 17, 18, 6, 7, 8, 9, 10]})\n",
      "OpenCortex >>> Adding convergent projection with {'dendrite_list_200_to_1000': 432} conns: [<neuroml.nml.nml.Projection object at 0x7fc2ce357750>]: pop_ec -> pop_bistratified, ['syn_ec_to_bistratified']\n",
      "OpenCortex >>> Adding projection: proj_pop_bistratified_pop_pvbasket: <neuroml.nml.nml.Cell object at 0x7fc2dec20590> ({'soma_group': [0, 2]}) -> <neuroml.nml.nml.Cell object at 0x7fc2de8d3e50> ({'dendrite_list_50_to_200': [31, 32, 30, 23, 24, 25, 26, 13, 14, 15, 3, 4, 5]})\n",
      "OpenCortex >>> Adding convergent projection with {'dendrite_list_50_to_200': 16} conns: [<neuroml.nml.nml.Projection object at 0x7fc2ce3577d0>]: pop_bistratified -> pop_pvbasket, ['syn_bistratified_to_pvbasket']\n",
      "OpenCortex >>> Adding projection: proj_pop_olm_pop_bistratified: <neuroml.nml.nml.Cell object at 0x7fc2deb47f10> ({'soma_group': [0, 2]}) -> <neuroml.nml.nml.Cell object at 0x7fc2dec20590> ({'apical_list_200_to_1000': [33, 34, 27, 28, 19, 20, 21, 22, 11, 12, 16, 17, 18, 6, 7, 8, 9, 10]})\n",
      "OpenCortex >>> Adding convergent projection with {'apical_list_200_to_1000': 8} conns: [<neuroml.nml.nml.Projection object at 0x7fc2ce30efd0>]: pop_olm -> pop_bistratified, ['syn_olm_to_bistratified']\n",
      "OpenCortex >>> Adding projection: proj_pop_ca3_pop_cck: Undetermined (None) -> <neuroml.nml.nml.Cell object at 0x7fc2debcd050> ({'dendrite_list_50_to_200': [31, 32, 30, 23, 24, 25, 26, 13, 14, 15, 3, 4, 5]})\n",
      "OpenCortex >>> Adding convergent projection with {'dendrite_list_50_to_200': 2000} conns: [<neuroml.nml.nml.Projection object at 0x7fc2ce316510>]: pop_ca3 -> pop_cck, ['syn_ca3_to_cck']\n",
      "OpenCortex >>> Adding projection: proj_pop_pvbasket_pop_ivy: <neuroml.nml.nml.Cell object at 0x7fc2de8d3e50> ({'soma_group': [0, 2]}) -> <neuroml.nml.nml.Cell object at 0x7fc2debf6390> ({'soma_group': [0, 2]})\n",
      "OpenCortex >>> Adding convergent projection with {'soma_group': 8} conns: [<neuroml.nml.nml.Projection object at 0x7fc2ce21a950>]: pop_pvbasket -> pop_ivy, ['syn_pvbasket_to_ivy']\n",
      "OpenCortex >>> Adding projection: proj_pop_pvbasket_pop_axoaxonic: <neuroml.nml.nml.Cell object at 0x7fc2de8d3e50> ({'soma_group': [0, 2]}) -> <neuroml.nml.nml.Cell object at 0x7fc2dec74d10> ({'soma_group': [0, 2]})\n",
      "OpenCortex >>> Adding convergent projection with {'soma_group': 39} conns: [<neuroml.nml.nml.Projection object at 0x7fc2ce21a9d0>]: pop_pvbasket -> pop_axoaxonic, ['syn_pvbasket_to_axoaxonic']\n",
      "OpenCortex >>> Adding projection: proj_pop_sca_pop_bistratified: <neuroml.nml.nml.Cell object at 0x7fc2de8fc910> ({'soma_group': [0, 2]}) -> <neuroml.nml.nml.Cell object at 0x7fc2dec20590> ({'dendrite_list_50_to_200': [31, 32, 30, 23, 24, 25, 26, 13, 14, 15, 3, 4, 5]})\n",
      "OpenCortex >>> Adding convergent projection with {'dendrite_list_50_to_200': 1} conns: [<neuroml.nml.nml.Projection object at 0x7fc2ce21f8d0>]: pop_sca -> pop_bistratified, ['syn_sca_to_bistratified']\n",
      "OpenCortex >>> Adding projection: proj_pop_ivy_pop_pvbasket: <neuroml.nml.nml.Cell object at 0x7fc2debf6390> ({'soma_group': [0, 2]}) -> <neuroml.nml.nml.Cell object at 0x7fc2de8d3e50> ({'dendrite_list_50_to_200': [31, 32, 30, 23, 24, 25, 26, 13, 14, 15, 3, 4, 5]})\n",
      "OpenCortex >>> Adding convergent projection with {'dendrite_list_50_to_200': 24} conns: [<neuroml.nml.nml.Projection object at 0x7fc2ce21fa50>]: pop_ivy -> pop_pvbasket, ['syn_ivy_to_pvbasket']\n",
      "OpenCortex >>> Adding projection: proj_pop_poolosyn_pop_olm: <neuroml.nml.nml.Cell object at 0x7fc2deb54a10> ({'soma_group': [0, 2, 3, 4, 5, 6, 7, 8, 9, 10, 11, 12, 13, 14, 15, 16, 17, 18, 19, 20, 21, 22, 23, 24, 25, 26]}) -> <neuroml.nml.nml.Cell object at 0x7fc2deb47f10> ({'dendrite_list_100_to_1000': [3, 4, 5, 6]})\n",
      "OpenCortex >>> Adding convergent projection with {'dendrite_list_100_to_1000': 2379} conns: [<neuroml.nml.nml.Projection object at 0x7fc2ce225710>]: pop_poolosyn -> pop_olm, ['syn_poolosyn_to_olm']\n",
      "Cells connected; #connections:499555 \n",
      "OpenCortex >>> Saved NeuroML with id: HippocampalNet_scale5000_oc to ./HippocampalNet_scale5000_oc.net.nml\n",
      "pyNeuroML >>> Executing: (java -Xmx400M  -jar  \"/usr/local/lib/python2.7/dist-packages/pyNeuroML-0.3.1-py2.7.egg/pyneuroml/lib/jNeuroML-0.8.3-jar-with-dependencies.jar\" -validate \"./HippocampalNet_scale5000_oc.net.nml\" ) in directory: .\n",
      "pyNeuroML >>> Command completed. Output: \n",
      "pyNeuroML >>>   jNeuroML >>   jNeuroML v0.8.3\n",
      "pyNeuroML >>>   jNeuroML >>  Validating: /home/bandi/workspace/ca1/NeuroML2/network/./HippocampalNet_scale5000_oc.net.nml\n",
      "pyNeuroML >>>   jNeuroML >>  Valid against schema and all tests\n",
      "pyNeuroML >>>   jNeuroML >>  No warnings\n",
      "pyNeuroML >>>   jNeuroML >>  \n",
      "pyNeuroML >>>   jNeuroML >>  Validated 1 files: All valid and no warnings\n",
      "pyNeuroML >>>   jNeuroML >>  \n",
      "pyNeuroML >>>   jNeuroML >>  \n",
      "OpenCortex >>> Generated NeuroML file is valid\n"
     ]
    }
   ],
   "source": [
    "from GenerateHippocampalNet_oc import generate_hippocampal_net\n",
    "\n",
    "networkID = \"HippocampalNet_scale%i_oc\"%scale\n",
    "\n",
    "# generate network (this might take some time)\n",
    "nml_doc, network, dPops = generate_hippocampal_net(networkID=networkID,\n",
    "                                                   scale=scale,\n",
    "                                                   duration=duration)"
   ]
  },
  {
   "cell_type": "code",
   "execution_count": 11,
   "metadata": {
    "collapsed": false
   },
   "outputs": [
    {
     "name": "stdout",
     "output_type": "stream",
     "text": [
      "pyNeuroML >>> Creating LEMS file at: ./LEMS_HippocampalNet_scale5000_oc.xml for NeuroML 2 file: HippocampalNet_scale5000_oc.net.nml (copy: True)\n",
      "pyNeuroML >>> Loading NeuroML2 file: HippocampalNet_scale5000_oc.net.nml\n",
      "pyNeuroML >>> Including included files (included already: [])\n",
      "pyNeuroML >>> Loading included NeuroML2 file: ../cells/axoaxonic.cell.nml (base: /home/bandi/workspace/ca1/NeuroML2/network, resolved: /home/bandi/workspace/ca1/NeuroML2/cells/axoaxonic.cell.nml, checking False)\n",
      "pyNeuroML >>> Loading NeuroML2 file: /home/bandi/workspace/ca1/NeuroML2/cells/axoaxonic.cell.nml\n",
      "pyNeuroML >>> Including included files (included already: [])\n",
      "pyNeuroML >>> Loading included NeuroML2 file: ../channels/CavL.channel.nml (base: /home/bandi/workspace/ca1/NeuroML2/cells, resolved: /home/bandi/workspace/ca1/NeuroML2/channels/CavL.channel.nml, checking False)\n",
      "pyNeuroML >>> Loading NeuroML2 file: /home/bandi/workspace/ca1/NeuroML2/channels/CavL.channel.nml\n",
      "pyNeuroML >>> Including included files (included already: [])\n",
      "pyNeuroML >>> Loading included NeuroML2 file: ../channels/CavN.channel.nml (base: /home/bandi/workspace/ca1/NeuroML2/cells, resolved: /home/bandi/workspace/ca1/NeuroML2/channels/CavN.channel.nml, checking False)\n",
      "pyNeuroML >>> Loading NeuroML2 file: /home/bandi/workspace/ca1/NeuroML2/channels/CavN.channel.nml\n",
      "pyNeuroML >>> Including included files (included already: ['/home/bandi/workspace/ca1/NeuroML2/channels/CavL.channel.nml'])\n",
      "pyNeuroML >>> Loading included NeuroML2 file: ../channels/KCaS.channel.nml (base: /home/bandi/workspace/ca1/NeuroML2/cells, resolved: /home/bandi/workspace/ca1/NeuroML2/channels/KCaS.channel.nml, checking False)\n",
      "pyNeuroML >>> Loading NeuroML2 file: /home/bandi/workspace/ca1/NeuroML2/channels/KCaS.channel.nml\n",
      "pyNeuroML >>> Including included files (included already: ['/home/bandi/workspace/ca1/NeuroML2/channels/CavL.channel.nml', '/home/bandi/workspace/ca1/NeuroML2/channels/CavN.channel.nml'])\n",
      "pyNeuroML >>> Loading included NeuroML2 file: ../channels/Kdrfast.channel.nml (base: /home/bandi/workspace/ca1/NeuroML2/cells, resolved: /home/bandi/workspace/ca1/NeuroML2/channels/Kdrfast.channel.nml, checking False)\n",
      "pyNeuroML >>> Loading NeuroML2 file: /home/bandi/workspace/ca1/NeuroML2/channels/Kdrfast.channel.nml\n",
      "pyNeuroML >>> Including included files (included already: ['/home/bandi/workspace/ca1/NeuroML2/channels/CavL.channel.nml', '/home/bandi/workspace/ca1/NeuroML2/channels/CavN.channel.nml', '/home/bandi/workspace/ca1/NeuroML2/channels/KCaS.channel.nml'])\n",
      "pyNeuroML >>> Loading included NeuroML2 file: ../channels/KvA.channel.nml (base: /home/bandi/workspace/ca1/NeuroML2/cells, resolved: /home/bandi/workspace/ca1/NeuroML2/channels/KvA.channel.nml, checking False)\n",
      "pyNeuroML >>> Loading NeuroML2 file: /home/bandi/workspace/ca1/NeuroML2/channels/KvA.channel.nml\n",
      "pyNeuroML >>> Including included files (included already: ['/home/bandi/workspace/ca1/NeuroML2/channels/CavL.channel.nml', '/home/bandi/workspace/ca1/NeuroML2/channels/CavN.channel.nml', '/home/bandi/workspace/ca1/NeuroML2/channels/KCaS.channel.nml', '/home/bandi/workspace/ca1/NeuroML2/channels/Kdrfast.channel.nml'])\n",
      "pyNeuroML >>> Loading included NeuroML2 file: ../channels/KvCaB.channel.nml (base: /home/bandi/workspace/ca1/NeuroML2/cells, resolved: /home/bandi/workspace/ca1/NeuroML2/channels/KvCaB.channel.nml, checking False)\n",
      "pyNeuroML >>> Loading NeuroML2 file: /home/bandi/workspace/ca1/NeuroML2/channels/KvCaB.channel.nml\n",
      "pyNeuroML >>> Including included files (included already: ['/home/bandi/workspace/ca1/NeuroML2/channels/CavL.channel.nml', '/home/bandi/workspace/ca1/NeuroML2/channels/CavN.channel.nml', '/home/bandi/workspace/ca1/NeuroML2/channels/KCaS.channel.nml', '/home/bandi/workspace/ca1/NeuroML2/channels/Kdrfast.channel.nml', '/home/bandi/workspace/ca1/NeuroML2/channels/KvA.channel.nml'])\n",
      "pyNeuroML >>> Loading included NeuroML2 file: ../channels/Nav.channel.nml (base: /home/bandi/workspace/ca1/NeuroML2/cells, resolved: /home/bandi/workspace/ca1/NeuroML2/channels/Nav.channel.nml, checking False)\n",
      "pyNeuroML >>> Loading NeuroML2 file: /home/bandi/workspace/ca1/NeuroML2/channels/Nav.channel.nml\n",
      "pyNeuroML >>> Including included files (included already: ['/home/bandi/workspace/ca1/NeuroML2/channels/CavL.channel.nml', '/home/bandi/workspace/ca1/NeuroML2/channels/CavN.channel.nml', '/home/bandi/workspace/ca1/NeuroML2/channels/KCaS.channel.nml', '/home/bandi/workspace/ca1/NeuroML2/channels/Kdrfast.channel.nml', '/home/bandi/workspace/ca1/NeuroML2/channels/KvA.channel.nml', '/home/bandi/workspace/ca1/NeuroML2/channels/KvCaB.channel.nml'])\n",
      "pyNeuroML >>> Loading included NeuroML2 file: ../channels/leak_chan.channel.nml (base: /home/bandi/workspace/ca1/NeuroML2/cells, resolved: /home/bandi/workspace/ca1/NeuroML2/channels/leak_chan.channel.nml, checking False)\n",
      "pyNeuroML >>> Loading NeuroML2 file: /home/bandi/workspace/ca1/NeuroML2/channels/leak_chan.channel.nml\n",
      "pyNeuroML >>> Including included files (included already: ['/home/bandi/workspace/ca1/NeuroML2/channels/CavL.channel.nml', '/home/bandi/workspace/ca1/NeuroML2/channels/CavN.channel.nml', '/home/bandi/workspace/ca1/NeuroML2/channels/KCaS.channel.nml', '/home/bandi/workspace/ca1/NeuroML2/channels/Kdrfast.channel.nml', '/home/bandi/workspace/ca1/NeuroML2/channels/KvA.channel.nml', '/home/bandi/workspace/ca1/NeuroML2/channels/KvCaB.channel.nml', '/home/bandi/workspace/ca1/NeuroML2/channels/Nav.channel.nml'])\n",
      "pyNeuroML >>> Loading included NeuroML2 file: ../channels/Capool.nml (base: /home/bandi/workspace/ca1/NeuroML2/cells, resolved: /home/bandi/workspace/ca1/NeuroML2/channels/Capool.nml, checking False)\n",
      "pyNeuroML >>> Loading NeuroML2 file: /home/bandi/workspace/ca1/NeuroML2/channels/Capool.nml\n",
      "pyNeuroML >>> Including included files (included already: ['/home/bandi/workspace/ca1/NeuroML2/channels/CavL.channel.nml', '/home/bandi/workspace/ca1/NeuroML2/channels/CavN.channel.nml', '/home/bandi/workspace/ca1/NeuroML2/channels/KCaS.channel.nml', '/home/bandi/workspace/ca1/NeuroML2/channels/Kdrfast.channel.nml', '/home/bandi/workspace/ca1/NeuroML2/channels/KvA.channel.nml', '/home/bandi/workspace/ca1/NeuroML2/channels/KvCaB.channel.nml', '/home/bandi/workspace/ca1/NeuroML2/channels/Nav.channel.nml', '/home/bandi/workspace/ca1/NeuroML2/channels/leak_chan.channel.nml'])\n",
      "pyNeuroML >>> Loading included NeuroML2 file: ../cells/bistratified.cell.nml (base: /home/bandi/workspace/ca1/NeuroML2/network, resolved: /home/bandi/workspace/ca1/NeuroML2/cells/bistratified.cell.nml, checking False)\n",
      "pyNeuroML >>> Loading NeuroML2 file: /home/bandi/workspace/ca1/NeuroML2/cells/bistratified.cell.nml\n",
      "pyNeuroML >>> Including included files (included already: ['/home/bandi/workspace/ca1/NeuroML2/channels/CavL.channel.nml', '/home/bandi/workspace/ca1/NeuroML2/channels/CavN.channel.nml', '/home/bandi/workspace/ca1/NeuroML2/channels/KCaS.channel.nml', '/home/bandi/workspace/ca1/NeuroML2/channels/Kdrfast.channel.nml', '/home/bandi/workspace/ca1/NeuroML2/channels/KvA.channel.nml', '/home/bandi/workspace/ca1/NeuroML2/channels/KvCaB.channel.nml', '/home/bandi/workspace/ca1/NeuroML2/channels/Nav.channel.nml', '/home/bandi/workspace/ca1/NeuroML2/channels/leak_chan.channel.nml', '/home/bandi/workspace/ca1/NeuroML2/channels/Capool.nml', '/home/bandi/workspace/ca1/NeuroML2/cells/axoaxonic.cell.nml'])\n",
      "pyNeuroML >>> Loading included NeuroML2 file: ../channels/Navbis.channel.nml (base: /home/bandi/workspace/ca1/NeuroML2/cells, resolved: /home/bandi/workspace/ca1/NeuroML2/channels/Navbis.channel.nml, checking False)\n",
      "pyNeuroML >>> Loading NeuroML2 file: /home/bandi/workspace/ca1/NeuroML2/channels/Navbis.channel.nml\n",
      "pyNeuroML >>> Including included files (included already: ['/home/bandi/workspace/ca1/NeuroML2/channels/CavL.channel.nml', '/home/bandi/workspace/ca1/NeuroML2/channels/CavN.channel.nml', '/home/bandi/workspace/ca1/NeuroML2/channels/KCaS.channel.nml', '/home/bandi/workspace/ca1/NeuroML2/channels/Kdrfast.channel.nml', '/home/bandi/workspace/ca1/NeuroML2/channels/KvA.channel.nml', '/home/bandi/workspace/ca1/NeuroML2/channels/KvCaB.channel.nml', '/home/bandi/workspace/ca1/NeuroML2/channels/Nav.channel.nml', '/home/bandi/workspace/ca1/NeuroML2/channels/leak_chan.channel.nml', '/home/bandi/workspace/ca1/NeuroML2/channels/Capool.nml', '/home/bandi/workspace/ca1/NeuroML2/cells/axoaxonic.cell.nml'])\n",
      "pyNeuroML >>> Loading included NeuroML2 file: ../cells/cck.cell.nml (base: /home/bandi/workspace/ca1/NeuroML2/network, resolved: /home/bandi/workspace/ca1/NeuroML2/cells/cck.cell.nml, checking False)\n",
      "pyNeuroML >>> Loading NeuroML2 file: /home/bandi/workspace/ca1/NeuroML2/cells/cck.cell.nml\n",
      "pyNeuroML >>> Including included files (included already: ['/home/bandi/workspace/ca1/NeuroML2/channels/CavL.channel.nml', '/home/bandi/workspace/ca1/NeuroML2/channels/CavN.channel.nml', '/home/bandi/workspace/ca1/NeuroML2/channels/KCaS.channel.nml', '/home/bandi/workspace/ca1/NeuroML2/channels/Kdrfast.channel.nml', '/home/bandi/workspace/ca1/NeuroML2/channels/KvA.channel.nml', '/home/bandi/workspace/ca1/NeuroML2/channels/KvCaB.channel.nml', '/home/bandi/workspace/ca1/NeuroML2/channels/Nav.channel.nml', '/home/bandi/workspace/ca1/NeuroML2/channels/leak_chan.channel.nml', '/home/bandi/workspace/ca1/NeuroML2/channels/Capool.nml', '/home/bandi/workspace/ca1/NeuroML2/cells/axoaxonic.cell.nml', '/home/bandi/workspace/ca1/NeuroML2/channels/Navbis.channel.nml', '/home/bandi/workspace/ca1/NeuroML2/cells/bistratified.cell.nml'])\n",
      "pyNeuroML >>> Loading included NeuroML2 file: ../channels/HCN.channel.nml (base: /home/bandi/workspace/ca1/NeuroML2/cells, resolved: /home/bandi/workspace/ca1/NeuroML2/channels/HCN.channel.nml, checking False)\n",
      "pyNeuroML >>> Loading NeuroML2 file: /home/bandi/workspace/ca1/NeuroML2/channels/HCN.channel.nml\n",
      "pyNeuroML >>> Including included files (included already: ['/home/bandi/workspace/ca1/NeuroML2/channels/CavL.channel.nml', '/home/bandi/workspace/ca1/NeuroML2/channels/CavN.channel.nml', '/home/bandi/workspace/ca1/NeuroML2/channels/KCaS.channel.nml', '/home/bandi/workspace/ca1/NeuroML2/channels/Kdrfast.channel.nml', '/home/bandi/workspace/ca1/NeuroML2/channels/KvA.channel.nml', '/home/bandi/workspace/ca1/NeuroML2/channels/KvCaB.channel.nml', '/home/bandi/workspace/ca1/NeuroML2/channels/Nav.channel.nml', '/home/bandi/workspace/ca1/NeuroML2/channels/leak_chan.channel.nml', '/home/bandi/workspace/ca1/NeuroML2/channels/Capool.nml', '/home/bandi/workspace/ca1/NeuroML2/cells/axoaxonic.cell.nml', '/home/bandi/workspace/ca1/NeuroML2/channels/Navbis.channel.nml', '/home/bandi/workspace/ca1/NeuroML2/cells/bistratified.cell.nml'])\n",
      "pyNeuroML >>> Loading included NeuroML2 file: ../channels/KvGroup.channel.nml (base: /home/bandi/workspace/ca1/NeuroML2/cells, resolved: /home/bandi/workspace/ca1/NeuroML2/channels/KvGroup.channel.nml, checking False)\n",
      "pyNeuroML >>> Loading NeuroML2 file: /home/bandi/workspace/ca1/NeuroML2/channels/KvGroup.channel.nml\n",
      "pyNeuroML >>> Including included files (included already: ['/home/bandi/workspace/ca1/NeuroML2/channels/CavL.channel.nml', '/home/bandi/workspace/ca1/NeuroML2/channels/CavN.channel.nml', '/home/bandi/workspace/ca1/NeuroML2/channels/KCaS.channel.nml', '/home/bandi/workspace/ca1/NeuroML2/channels/Kdrfast.channel.nml', '/home/bandi/workspace/ca1/NeuroML2/channels/KvA.channel.nml', '/home/bandi/workspace/ca1/NeuroML2/channels/KvCaB.channel.nml', '/home/bandi/workspace/ca1/NeuroML2/channels/Nav.channel.nml', '/home/bandi/workspace/ca1/NeuroML2/channels/leak_chan.channel.nml', '/home/bandi/workspace/ca1/NeuroML2/channels/Capool.nml', '/home/bandi/workspace/ca1/NeuroML2/cells/axoaxonic.cell.nml', '/home/bandi/workspace/ca1/NeuroML2/channels/Navbis.channel.nml', '/home/bandi/workspace/ca1/NeuroML2/cells/bistratified.cell.nml', '/home/bandi/workspace/ca1/NeuroML2/channels/HCN.channel.nml'])\n",
      "pyNeuroML >>> Loading included NeuroML2 file: ../channels/Navcck.channel.nml (base: /home/bandi/workspace/ca1/NeuroML2/cells, resolved: /home/bandi/workspace/ca1/NeuroML2/channels/Navcck.channel.nml, checking False)\n",
      "pyNeuroML >>> Loading NeuroML2 file: /home/bandi/workspace/ca1/NeuroML2/channels/Navcck.channel.nml\n",
      "pyNeuroML >>> Including included files (included already: ['/home/bandi/workspace/ca1/NeuroML2/channels/CavL.channel.nml', '/home/bandi/workspace/ca1/NeuroML2/channels/CavN.channel.nml', '/home/bandi/workspace/ca1/NeuroML2/channels/KCaS.channel.nml', '/home/bandi/workspace/ca1/NeuroML2/channels/Kdrfast.channel.nml', '/home/bandi/workspace/ca1/NeuroML2/channels/KvA.channel.nml', '/home/bandi/workspace/ca1/NeuroML2/channels/KvCaB.channel.nml', '/home/bandi/workspace/ca1/NeuroML2/channels/Nav.channel.nml', '/home/bandi/workspace/ca1/NeuroML2/channels/leak_chan.channel.nml', '/home/bandi/workspace/ca1/NeuroML2/channels/Capool.nml', '/home/bandi/workspace/ca1/NeuroML2/cells/axoaxonic.cell.nml', '/home/bandi/workspace/ca1/NeuroML2/channels/Navbis.channel.nml', '/home/bandi/workspace/ca1/NeuroML2/cells/bistratified.cell.nml', '/home/bandi/workspace/ca1/NeuroML2/channels/HCN.channel.nml', '/home/bandi/workspace/ca1/NeuroML2/channels/KvGroup.channel.nml'])\n",
      "pyNeuroML >>> Loading included NeuroML2 file: ../cells/ivy.cell.nml (base: /home/bandi/workspace/ca1/NeuroML2/network, resolved: /home/bandi/workspace/ca1/NeuroML2/cells/ivy.cell.nml, checking False)\n",
      "pyNeuroML >>> Loading NeuroML2 file: /home/bandi/workspace/ca1/NeuroML2/cells/ivy.cell.nml\n",
      "pyNeuroML >>> Including included files (included already: ['/home/bandi/workspace/ca1/NeuroML2/channels/CavL.channel.nml', '/home/bandi/workspace/ca1/NeuroML2/channels/CavN.channel.nml', '/home/bandi/workspace/ca1/NeuroML2/channels/KCaS.channel.nml', '/home/bandi/workspace/ca1/NeuroML2/channels/Kdrfast.channel.nml', '/home/bandi/workspace/ca1/NeuroML2/channels/KvA.channel.nml', '/home/bandi/workspace/ca1/NeuroML2/channels/KvCaB.channel.nml', '/home/bandi/workspace/ca1/NeuroML2/channels/Nav.channel.nml', '/home/bandi/workspace/ca1/NeuroML2/channels/leak_chan.channel.nml', '/home/bandi/workspace/ca1/NeuroML2/channels/Capool.nml', '/home/bandi/workspace/ca1/NeuroML2/cells/axoaxonic.cell.nml', '/home/bandi/workspace/ca1/NeuroML2/channels/Navbis.channel.nml', '/home/bandi/workspace/ca1/NeuroML2/cells/bistratified.cell.nml', '/home/bandi/workspace/ca1/NeuroML2/channels/HCN.channel.nml', '/home/bandi/workspace/ca1/NeuroML2/channels/KvGroup.channel.nml', '/home/bandi/workspace/ca1/NeuroML2/channels/Navcck.channel.nml', '/home/bandi/workspace/ca1/NeuroML2/cells/cck.cell.nml'])\n",
      "pyNeuroML >>> Loading included NeuroML2 file: ../channels/Kdrfastngf.channel.nml (base: /home/bandi/workspace/ca1/NeuroML2/cells, resolved: /home/bandi/workspace/ca1/NeuroML2/channels/Kdrfastngf.channel.nml, checking False)\n",
      "pyNeuroML >>> Loading NeuroML2 file: /home/bandi/workspace/ca1/NeuroML2/channels/Kdrfastngf.channel.nml\n",
      "pyNeuroML >>> Including included files (included already: ['/home/bandi/workspace/ca1/NeuroML2/channels/CavL.channel.nml', '/home/bandi/workspace/ca1/NeuroML2/channels/CavN.channel.nml', '/home/bandi/workspace/ca1/NeuroML2/channels/KCaS.channel.nml', '/home/bandi/workspace/ca1/NeuroML2/channels/Kdrfast.channel.nml', '/home/bandi/workspace/ca1/NeuroML2/channels/KvA.channel.nml', '/home/bandi/workspace/ca1/NeuroML2/channels/KvCaB.channel.nml', '/home/bandi/workspace/ca1/NeuroML2/channels/Nav.channel.nml', '/home/bandi/workspace/ca1/NeuroML2/channels/leak_chan.channel.nml', '/home/bandi/workspace/ca1/NeuroML2/channels/Capool.nml', '/home/bandi/workspace/ca1/NeuroML2/cells/axoaxonic.cell.nml', '/home/bandi/workspace/ca1/NeuroML2/channels/Navbis.channel.nml', '/home/bandi/workspace/ca1/NeuroML2/cells/bistratified.cell.nml', '/home/bandi/workspace/ca1/NeuroML2/channels/HCN.channel.nml', '/home/bandi/workspace/ca1/NeuroML2/channels/KvGroup.channel.nml', '/home/bandi/workspace/ca1/NeuroML2/channels/Navcck.channel.nml', '/home/bandi/workspace/ca1/NeuroML2/cells/cck.cell.nml'])\n",
      "pyNeuroML >>> Loading included NeuroML2 file: ../channels/KvAngf.channel.nml (base: /home/bandi/workspace/ca1/NeuroML2/cells, resolved: /home/bandi/workspace/ca1/NeuroML2/channels/KvAngf.channel.nml, checking False)\n",
      "pyNeuroML >>> Loading NeuroML2 file: /home/bandi/workspace/ca1/NeuroML2/channels/KvAngf.channel.nml\n",
      "pyNeuroML >>> Including included files (included already: ['/home/bandi/workspace/ca1/NeuroML2/channels/CavL.channel.nml', '/home/bandi/workspace/ca1/NeuroML2/channels/CavN.channel.nml', '/home/bandi/workspace/ca1/NeuroML2/channels/KCaS.channel.nml', '/home/bandi/workspace/ca1/NeuroML2/channels/Kdrfast.channel.nml', '/home/bandi/workspace/ca1/NeuroML2/channels/KvA.channel.nml', '/home/bandi/workspace/ca1/NeuroML2/channels/KvCaB.channel.nml', '/home/bandi/workspace/ca1/NeuroML2/channels/Nav.channel.nml', '/home/bandi/workspace/ca1/NeuroML2/channels/leak_chan.channel.nml', '/home/bandi/workspace/ca1/NeuroML2/channels/Capool.nml', '/home/bandi/workspace/ca1/NeuroML2/cells/axoaxonic.cell.nml', '/home/bandi/workspace/ca1/NeuroML2/channels/Navbis.channel.nml', '/home/bandi/workspace/ca1/NeuroML2/cells/bistratified.cell.nml', '/home/bandi/workspace/ca1/NeuroML2/channels/HCN.channel.nml', '/home/bandi/workspace/ca1/NeuroML2/channels/KvGroup.channel.nml', '/home/bandi/workspace/ca1/NeuroML2/channels/Navcck.channel.nml', '/home/bandi/workspace/ca1/NeuroML2/cells/cck.cell.nml', '/home/bandi/workspace/ca1/NeuroML2/channels/Kdrfastngf.channel.nml'])\n",
      "pyNeuroML >>> Loading included NeuroML2 file: ../channels/Navngf.channel.nml (base: /home/bandi/workspace/ca1/NeuroML2/cells, resolved: /home/bandi/workspace/ca1/NeuroML2/channels/Navngf.channel.nml, checking False)\n",
      "pyNeuroML >>> Loading NeuroML2 file: /home/bandi/workspace/ca1/NeuroML2/channels/Navngf.channel.nml\n",
      "pyNeuroML >>> Including included files (included already: ['/home/bandi/workspace/ca1/NeuroML2/channels/CavL.channel.nml', '/home/bandi/workspace/ca1/NeuroML2/channels/CavN.channel.nml', '/home/bandi/workspace/ca1/NeuroML2/channels/KCaS.channel.nml', '/home/bandi/workspace/ca1/NeuroML2/channels/Kdrfast.channel.nml', '/home/bandi/workspace/ca1/NeuroML2/channels/KvA.channel.nml', '/home/bandi/workspace/ca1/NeuroML2/channels/KvCaB.channel.nml', '/home/bandi/workspace/ca1/NeuroML2/channels/Nav.channel.nml', '/home/bandi/workspace/ca1/NeuroML2/channels/leak_chan.channel.nml', '/home/bandi/workspace/ca1/NeuroML2/channels/Capool.nml', '/home/bandi/workspace/ca1/NeuroML2/cells/axoaxonic.cell.nml', '/home/bandi/workspace/ca1/NeuroML2/channels/Navbis.channel.nml', '/home/bandi/workspace/ca1/NeuroML2/cells/bistratified.cell.nml', '/home/bandi/workspace/ca1/NeuroML2/channels/HCN.channel.nml', '/home/bandi/workspace/ca1/NeuroML2/channels/KvGroup.channel.nml', '/home/bandi/workspace/ca1/NeuroML2/channels/Navcck.channel.nml', '/home/bandi/workspace/ca1/NeuroML2/cells/cck.cell.nml', '/home/bandi/workspace/ca1/NeuroML2/channels/Kdrfastngf.channel.nml', '/home/bandi/workspace/ca1/NeuroML2/channels/KvAngf.channel.nml'])\n",
      "pyNeuroML >>> Loading included NeuroML2 file: ../cells/ngf.cell.nml (base: /home/bandi/workspace/ca1/NeuroML2/network, resolved: /home/bandi/workspace/ca1/NeuroML2/cells/ngf.cell.nml, checking False)\n",
      "pyNeuroML >>> Loading NeuroML2 file: /home/bandi/workspace/ca1/NeuroML2/cells/ngf.cell.nml\n",
      "pyNeuroML >>> Including included files (included already: ['/home/bandi/workspace/ca1/NeuroML2/channels/CavL.channel.nml', '/home/bandi/workspace/ca1/NeuroML2/channels/CavN.channel.nml', '/home/bandi/workspace/ca1/NeuroML2/channels/KCaS.channel.nml', '/home/bandi/workspace/ca1/NeuroML2/channels/Kdrfast.channel.nml', '/home/bandi/workspace/ca1/NeuroML2/channels/KvA.channel.nml', '/home/bandi/workspace/ca1/NeuroML2/channels/KvCaB.channel.nml', '/home/bandi/workspace/ca1/NeuroML2/channels/Nav.channel.nml', '/home/bandi/workspace/ca1/NeuroML2/channels/leak_chan.channel.nml', '/home/bandi/workspace/ca1/NeuroML2/channels/Capool.nml', '/home/bandi/workspace/ca1/NeuroML2/cells/axoaxonic.cell.nml', '/home/bandi/workspace/ca1/NeuroML2/channels/Navbis.channel.nml', '/home/bandi/workspace/ca1/NeuroML2/cells/bistratified.cell.nml', '/home/bandi/workspace/ca1/NeuroML2/channels/HCN.channel.nml', '/home/bandi/workspace/ca1/NeuroML2/channels/KvGroup.channel.nml', '/home/bandi/workspace/ca1/NeuroML2/channels/Navcck.channel.nml', '/home/bandi/workspace/ca1/NeuroML2/cells/cck.cell.nml', '/home/bandi/workspace/ca1/NeuroML2/channels/Kdrfastngf.channel.nml', '/home/bandi/workspace/ca1/NeuroML2/channels/KvAngf.channel.nml', '/home/bandi/workspace/ca1/NeuroML2/channels/Navngf.channel.nml', '/home/bandi/workspace/ca1/NeuroML2/cells/ivy.cell.nml'])\n",
      "pyNeuroML >>> Loading included NeuroML2 file: ../cells/olm.cell.nml (base: /home/bandi/workspace/ca1/NeuroML2/network, resolved: /home/bandi/workspace/ca1/NeuroML2/cells/olm.cell.nml, checking False)\n",
      "pyNeuroML >>> Loading NeuroML2 file: /home/bandi/workspace/ca1/NeuroML2/cells/olm.cell.nml\n",
      "pyNeuroML >>> Including included files (included already: ['/home/bandi/workspace/ca1/NeuroML2/channels/CavL.channel.nml', '/home/bandi/workspace/ca1/NeuroML2/channels/CavN.channel.nml', '/home/bandi/workspace/ca1/NeuroML2/channels/KCaS.channel.nml', '/home/bandi/workspace/ca1/NeuroML2/channels/Kdrfast.channel.nml', '/home/bandi/workspace/ca1/NeuroML2/channels/KvA.channel.nml', '/home/bandi/workspace/ca1/NeuroML2/channels/KvCaB.channel.nml', '/home/bandi/workspace/ca1/NeuroML2/channels/Nav.channel.nml', '/home/bandi/workspace/ca1/NeuroML2/channels/leak_chan.channel.nml', '/home/bandi/workspace/ca1/NeuroML2/channels/Capool.nml', '/home/bandi/workspace/ca1/NeuroML2/cells/axoaxonic.cell.nml', '/home/bandi/workspace/ca1/NeuroML2/channels/Navbis.channel.nml', '/home/bandi/workspace/ca1/NeuroML2/cells/bistratified.cell.nml', '/home/bandi/workspace/ca1/NeuroML2/channels/HCN.channel.nml', '/home/bandi/workspace/ca1/NeuroML2/channels/KvGroup.channel.nml', '/home/bandi/workspace/ca1/NeuroML2/channels/Navcck.channel.nml', '/home/bandi/workspace/ca1/NeuroML2/cells/cck.cell.nml', '/home/bandi/workspace/ca1/NeuroML2/channels/Kdrfastngf.channel.nml', '/home/bandi/workspace/ca1/NeuroML2/channels/KvAngf.channel.nml', '/home/bandi/workspace/ca1/NeuroML2/channels/Navngf.channel.nml', '/home/bandi/workspace/ca1/NeuroML2/cells/ivy.cell.nml', '/home/bandi/workspace/ca1/NeuroML2/cells/ngf.cell.nml'])\n",
      "pyNeuroML >>> Loading included NeuroML2 file: ../channels/HCNolm.channel.nml (base: /home/bandi/workspace/ca1/NeuroML2/cells, resolved: /home/bandi/workspace/ca1/NeuroML2/channels/HCNolm.channel.nml, checking False)\n",
      "pyNeuroML >>> Loading NeuroML2 file: /home/bandi/workspace/ca1/NeuroML2/channels/HCNolm.channel.nml\n",
      "pyNeuroML >>> Including included files (included already: ['/home/bandi/workspace/ca1/NeuroML2/channels/CavL.channel.nml', '/home/bandi/workspace/ca1/NeuroML2/channels/CavN.channel.nml', '/home/bandi/workspace/ca1/NeuroML2/channels/KCaS.channel.nml', '/home/bandi/workspace/ca1/NeuroML2/channels/Kdrfast.channel.nml', '/home/bandi/workspace/ca1/NeuroML2/channels/KvA.channel.nml', '/home/bandi/workspace/ca1/NeuroML2/channels/KvCaB.channel.nml', '/home/bandi/workspace/ca1/NeuroML2/channels/Nav.channel.nml', '/home/bandi/workspace/ca1/NeuroML2/channels/leak_chan.channel.nml', '/home/bandi/workspace/ca1/NeuroML2/channels/Capool.nml', '/home/bandi/workspace/ca1/NeuroML2/cells/axoaxonic.cell.nml', '/home/bandi/workspace/ca1/NeuroML2/channels/Navbis.channel.nml', '/home/bandi/workspace/ca1/NeuroML2/cells/bistratified.cell.nml', '/home/bandi/workspace/ca1/NeuroML2/channels/HCN.channel.nml', '/home/bandi/workspace/ca1/NeuroML2/channels/KvGroup.channel.nml', '/home/bandi/workspace/ca1/NeuroML2/channels/Navcck.channel.nml', '/home/bandi/workspace/ca1/NeuroML2/cells/cck.cell.nml', '/home/bandi/workspace/ca1/NeuroML2/channels/Kdrfastngf.channel.nml', '/home/bandi/workspace/ca1/NeuroML2/channels/KvAngf.channel.nml', '/home/bandi/workspace/ca1/NeuroML2/channels/Navngf.channel.nml', '/home/bandi/workspace/ca1/NeuroML2/cells/ivy.cell.nml', '/home/bandi/workspace/ca1/NeuroML2/cells/ngf.cell.nml'])\n",
      "pyNeuroML >>> Loading included NeuroML2 file: ../channels/KvAolm.channel.nml (base: /home/bandi/workspace/ca1/NeuroML2/cells, resolved: /home/bandi/workspace/ca1/NeuroML2/channels/KvAolm.channel.nml, checking False)\n",
      "pyNeuroML >>> Loading NeuroML2 file: /home/bandi/workspace/ca1/NeuroML2/channels/KvAolm.channel.nml\n",
      "pyNeuroML >>> Including included files (included already: ['/home/bandi/workspace/ca1/NeuroML2/channels/CavL.channel.nml', '/home/bandi/workspace/ca1/NeuroML2/channels/CavN.channel.nml', '/home/bandi/workspace/ca1/NeuroML2/channels/KCaS.channel.nml', '/home/bandi/workspace/ca1/NeuroML2/channels/Kdrfast.channel.nml', '/home/bandi/workspace/ca1/NeuroML2/channels/KvA.channel.nml', '/home/bandi/workspace/ca1/NeuroML2/channels/KvCaB.channel.nml', '/home/bandi/workspace/ca1/NeuroML2/channels/Nav.channel.nml', '/home/bandi/workspace/ca1/NeuroML2/channels/leak_chan.channel.nml', '/home/bandi/workspace/ca1/NeuroML2/channels/Capool.nml', '/home/bandi/workspace/ca1/NeuroML2/cells/axoaxonic.cell.nml', '/home/bandi/workspace/ca1/NeuroML2/channels/Navbis.channel.nml', '/home/bandi/workspace/ca1/NeuroML2/cells/bistratified.cell.nml', '/home/bandi/workspace/ca1/NeuroML2/channels/HCN.channel.nml', '/home/bandi/workspace/ca1/NeuroML2/channels/KvGroup.channel.nml', '/home/bandi/workspace/ca1/NeuroML2/channels/Navcck.channel.nml', '/home/bandi/workspace/ca1/NeuroML2/cells/cck.cell.nml', '/home/bandi/workspace/ca1/NeuroML2/channels/Kdrfastngf.channel.nml', '/home/bandi/workspace/ca1/NeuroML2/channels/KvAngf.channel.nml', '/home/bandi/workspace/ca1/NeuroML2/channels/Navngf.channel.nml', '/home/bandi/workspace/ca1/NeuroML2/cells/ivy.cell.nml', '/home/bandi/workspace/ca1/NeuroML2/cells/ngf.cell.nml', '/home/bandi/workspace/ca1/NeuroML2/channels/HCNolm.channel.nml'])\n",
      "pyNeuroML >>> Loading included NeuroML2 file: ../cells/poolosyn.cell.nml (base: /home/bandi/workspace/ca1/NeuroML2/network, resolved: /home/bandi/workspace/ca1/NeuroML2/cells/poolosyn.cell.nml, checking False)\n",
      "pyNeuroML >>> Loading NeuroML2 file: /home/bandi/workspace/ca1/NeuroML2/cells/poolosyn.cell.nml\n",
      "pyNeuroML >>> Including included files (included already: ['/home/bandi/workspace/ca1/NeuroML2/channels/CavL.channel.nml', '/home/bandi/workspace/ca1/NeuroML2/channels/CavN.channel.nml', '/home/bandi/workspace/ca1/NeuroML2/channels/KCaS.channel.nml', '/home/bandi/workspace/ca1/NeuroML2/channels/Kdrfast.channel.nml', '/home/bandi/workspace/ca1/NeuroML2/channels/KvA.channel.nml', '/home/bandi/workspace/ca1/NeuroML2/channels/KvCaB.channel.nml', '/home/bandi/workspace/ca1/NeuroML2/channels/Nav.channel.nml', '/home/bandi/workspace/ca1/NeuroML2/channels/leak_chan.channel.nml', '/home/bandi/workspace/ca1/NeuroML2/channels/Capool.nml', '/home/bandi/workspace/ca1/NeuroML2/cells/axoaxonic.cell.nml', '/home/bandi/workspace/ca1/NeuroML2/channels/Navbis.channel.nml', '/home/bandi/workspace/ca1/NeuroML2/cells/bistratified.cell.nml', '/home/bandi/workspace/ca1/NeuroML2/channels/HCN.channel.nml', '/home/bandi/workspace/ca1/NeuroML2/channels/KvGroup.channel.nml', '/home/bandi/workspace/ca1/NeuroML2/channels/Navcck.channel.nml', '/home/bandi/workspace/ca1/NeuroML2/cells/cck.cell.nml', '/home/bandi/workspace/ca1/NeuroML2/channels/Kdrfastngf.channel.nml', '/home/bandi/workspace/ca1/NeuroML2/channels/KvAngf.channel.nml', '/home/bandi/workspace/ca1/NeuroML2/channels/Navngf.channel.nml', '/home/bandi/workspace/ca1/NeuroML2/cells/ivy.cell.nml', '/home/bandi/workspace/ca1/NeuroML2/cells/ngf.cell.nml', '/home/bandi/workspace/ca1/NeuroML2/channels/HCNolm.channel.nml', '/home/bandi/workspace/ca1/NeuroML2/channels/KvAolm.channel.nml', '/home/bandi/workspace/ca1/NeuroML2/cells/olm.cell.nml'])\n",
      "pyNeuroML >>> Loading included NeuroML2 file: ../channels/HCNp.channel.nml (base: /home/bandi/workspace/ca1/NeuroML2/cells, resolved: /home/bandi/workspace/ca1/NeuroML2/channels/HCNp.channel.nml, checking False)\n",
      "pyNeuroML >>> Loading NeuroML2 file: /home/bandi/workspace/ca1/NeuroML2/channels/HCNp.channel.nml\n",
      "pyNeuroML >>> Including included files (included already: ['/home/bandi/workspace/ca1/NeuroML2/channels/CavL.channel.nml', '/home/bandi/workspace/ca1/NeuroML2/channels/CavN.channel.nml', '/home/bandi/workspace/ca1/NeuroML2/channels/KCaS.channel.nml', '/home/bandi/workspace/ca1/NeuroML2/channels/Kdrfast.channel.nml', '/home/bandi/workspace/ca1/NeuroML2/channels/KvA.channel.nml', '/home/bandi/workspace/ca1/NeuroML2/channels/KvCaB.channel.nml', '/home/bandi/workspace/ca1/NeuroML2/channels/Nav.channel.nml', '/home/bandi/workspace/ca1/NeuroML2/channels/leak_chan.channel.nml', '/home/bandi/workspace/ca1/NeuroML2/channels/Capool.nml', '/home/bandi/workspace/ca1/NeuroML2/cells/axoaxonic.cell.nml', '/home/bandi/workspace/ca1/NeuroML2/channels/Navbis.channel.nml', '/home/bandi/workspace/ca1/NeuroML2/cells/bistratified.cell.nml', '/home/bandi/workspace/ca1/NeuroML2/channels/HCN.channel.nml', '/home/bandi/workspace/ca1/NeuroML2/channels/KvGroup.channel.nml', '/home/bandi/workspace/ca1/NeuroML2/channels/Navcck.channel.nml', '/home/bandi/workspace/ca1/NeuroML2/cells/cck.cell.nml', '/home/bandi/workspace/ca1/NeuroML2/channels/Kdrfastngf.channel.nml', '/home/bandi/workspace/ca1/NeuroML2/channels/KvAngf.channel.nml', '/home/bandi/workspace/ca1/NeuroML2/channels/Navngf.channel.nml', '/home/bandi/workspace/ca1/NeuroML2/cells/ivy.cell.nml', '/home/bandi/workspace/ca1/NeuroML2/cells/ngf.cell.nml', '/home/bandi/workspace/ca1/NeuroML2/channels/HCNolm.channel.nml', '/home/bandi/workspace/ca1/NeuroML2/channels/KvAolm.channel.nml', '/home/bandi/workspace/ca1/NeuroML2/cells/olm.cell.nml'])\n",
      "pyNeuroML >>> Loading included NeuroML2 file: ../channels/Kdrp.channel.nml (base: /home/bandi/workspace/ca1/NeuroML2/cells, resolved: /home/bandi/workspace/ca1/NeuroML2/channels/Kdrp.channel.nml, checking False)\n",
      "pyNeuroML >>> Loading NeuroML2 file: /home/bandi/workspace/ca1/NeuroML2/channels/Kdrp.channel.nml\n",
      "pyNeuroML >>> Including included files (included already: ['/home/bandi/workspace/ca1/NeuroML2/channels/CavL.channel.nml', '/home/bandi/workspace/ca1/NeuroML2/channels/CavN.channel.nml', '/home/bandi/workspace/ca1/NeuroML2/channels/KCaS.channel.nml', '/home/bandi/workspace/ca1/NeuroML2/channels/Kdrfast.channel.nml', '/home/bandi/workspace/ca1/NeuroML2/channels/KvA.channel.nml', '/home/bandi/workspace/ca1/NeuroML2/channels/KvCaB.channel.nml', '/home/bandi/workspace/ca1/NeuroML2/channels/Nav.channel.nml', '/home/bandi/workspace/ca1/NeuroML2/channels/leak_chan.channel.nml', '/home/bandi/workspace/ca1/NeuroML2/channels/Capool.nml', '/home/bandi/workspace/ca1/NeuroML2/cells/axoaxonic.cell.nml', '/home/bandi/workspace/ca1/NeuroML2/channels/Navbis.channel.nml', '/home/bandi/workspace/ca1/NeuroML2/cells/bistratified.cell.nml', '/home/bandi/workspace/ca1/NeuroML2/channels/HCN.channel.nml', '/home/bandi/workspace/ca1/NeuroML2/channels/KvGroup.channel.nml', '/home/bandi/workspace/ca1/NeuroML2/channels/Navcck.channel.nml', '/home/bandi/workspace/ca1/NeuroML2/cells/cck.cell.nml', '/home/bandi/workspace/ca1/NeuroML2/channels/Kdrfastngf.channel.nml', '/home/bandi/workspace/ca1/NeuroML2/channels/KvAngf.channel.nml', '/home/bandi/workspace/ca1/NeuroML2/channels/Navngf.channel.nml', '/home/bandi/workspace/ca1/NeuroML2/cells/ivy.cell.nml', '/home/bandi/workspace/ca1/NeuroML2/cells/ngf.cell.nml', '/home/bandi/workspace/ca1/NeuroML2/channels/HCNolm.channel.nml', '/home/bandi/workspace/ca1/NeuroML2/channels/KvAolm.channel.nml', '/home/bandi/workspace/ca1/NeuroML2/cells/olm.cell.nml', '/home/bandi/workspace/ca1/NeuroML2/channels/HCNp.channel.nml'])\n",
      "pyNeuroML >>> Loading included NeuroML2 file: ../channels/KvAproxp.channel.nml (base: /home/bandi/workspace/ca1/NeuroML2/cells, resolved: /home/bandi/workspace/ca1/NeuroML2/channels/KvAproxp.channel.nml, checking False)\n",
      "pyNeuroML >>> Loading NeuroML2 file: /home/bandi/workspace/ca1/NeuroML2/channels/KvAproxp.channel.nml\n",
      "pyNeuroML >>> Including included files (included already: ['/home/bandi/workspace/ca1/NeuroML2/channels/CavL.channel.nml', '/home/bandi/workspace/ca1/NeuroML2/channels/CavN.channel.nml', '/home/bandi/workspace/ca1/NeuroML2/channels/KCaS.channel.nml', '/home/bandi/workspace/ca1/NeuroML2/channels/Kdrfast.channel.nml', '/home/bandi/workspace/ca1/NeuroML2/channels/KvA.channel.nml', '/home/bandi/workspace/ca1/NeuroML2/channels/KvCaB.channel.nml', '/home/bandi/workspace/ca1/NeuroML2/channels/Nav.channel.nml', '/home/bandi/workspace/ca1/NeuroML2/channels/leak_chan.channel.nml', '/home/bandi/workspace/ca1/NeuroML2/channels/Capool.nml', '/home/bandi/workspace/ca1/NeuroML2/cells/axoaxonic.cell.nml', '/home/bandi/workspace/ca1/NeuroML2/channels/Navbis.channel.nml', '/home/bandi/workspace/ca1/NeuroML2/cells/bistratified.cell.nml', '/home/bandi/workspace/ca1/NeuroML2/channels/HCN.channel.nml', '/home/bandi/workspace/ca1/NeuroML2/channels/KvGroup.channel.nml', '/home/bandi/workspace/ca1/NeuroML2/channels/Navcck.channel.nml', '/home/bandi/workspace/ca1/NeuroML2/cells/cck.cell.nml', '/home/bandi/workspace/ca1/NeuroML2/channels/Kdrfastngf.channel.nml', '/home/bandi/workspace/ca1/NeuroML2/channels/KvAngf.channel.nml', '/home/bandi/workspace/ca1/NeuroML2/channels/Navngf.channel.nml', '/home/bandi/workspace/ca1/NeuroML2/cells/ivy.cell.nml', '/home/bandi/workspace/ca1/NeuroML2/cells/ngf.cell.nml', '/home/bandi/workspace/ca1/NeuroML2/channels/HCNolm.channel.nml', '/home/bandi/workspace/ca1/NeuroML2/channels/KvAolm.channel.nml', '/home/bandi/workspace/ca1/NeuroML2/cells/olm.cell.nml', '/home/bandi/workspace/ca1/NeuroML2/channels/HCNp.channel.nml', '/home/bandi/workspace/ca1/NeuroML2/channels/Kdrp.channel.nml'])\n",
      "pyNeuroML >>> Loading included NeuroML2 file: ../channels/KvAdistp.channel.nml (base: /home/bandi/workspace/ca1/NeuroML2/cells, resolved: /home/bandi/workspace/ca1/NeuroML2/channels/KvAdistp.channel.nml, checking False)\n",
      "pyNeuroML >>> Loading NeuroML2 file: /home/bandi/workspace/ca1/NeuroML2/channels/KvAdistp.channel.nml\n",
      "pyNeuroML >>> Including included files (included already: ['/home/bandi/workspace/ca1/NeuroML2/channels/CavL.channel.nml', '/home/bandi/workspace/ca1/NeuroML2/channels/CavN.channel.nml', '/home/bandi/workspace/ca1/NeuroML2/channels/KCaS.channel.nml', '/home/bandi/workspace/ca1/NeuroML2/channels/Kdrfast.channel.nml', '/home/bandi/workspace/ca1/NeuroML2/channels/KvA.channel.nml', '/home/bandi/workspace/ca1/NeuroML2/channels/KvCaB.channel.nml', '/home/bandi/workspace/ca1/NeuroML2/channels/Nav.channel.nml', '/home/bandi/workspace/ca1/NeuroML2/channels/leak_chan.channel.nml', '/home/bandi/workspace/ca1/NeuroML2/channels/Capool.nml', '/home/bandi/workspace/ca1/NeuroML2/cells/axoaxonic.cell.nml', '/home/bandi/workspace/ca1/NeuroML2/channels/Navbis.channel.nml', '/home/bandi/workspace/ca1/NeuroML2/cells/bistratified.cell.nml', '/home/bandi/workspace/ca1/NeuroML2/channels/HCN.channel.nml', '/home/bandi/workspace/ca1/NeuroML2/channels/KvGroup.channel.nml', '/home/bandi/workspace/ca1/NeuroML2/channels/Navcck.channel.nml', '/home/bandi/workspace/ca1/NeuroML2/cells/cck.cell.nml', '/home/bandi/workspace/ca1/NeuroML2/channels/Kdrfastngf.channel.nml', '/home/bandi/workspace/ca1/NeuroML2/channels/KvAngf.channel.nml', '/home/bandi/workspace/ca1/NeuroML2/channels/Navngf.channel.nml', '/home/bandi/workspace/ca1/NeuroML2/cells/ivy.cell.nml', '/home/bandi/workspace/ca1/NeuroML2/cells/ngf.cell.nml', '/home/bandi/workspace/ca1/NeuroML2/channels/HCNolm.channel.nml', '/home/bandi/workspace/ca1/NeuroML2/channels/KvAolm.channel.nml', '/home/bandi/workspace/ca1/NeuroML2/cells/olm.cell.nml', '/home/bandi/workspace/ca1/NeuroML2/channels/HCNp.channel.nml', '/home/bandi/workspace/ca1/NeuroML2/channels/Kdrp.channel.nml', '/home/bandi/workspace/ca1/NeuroML2/channels/KvAproxp.channel.nml'])\n",
      "pyNeuroML >>> Loading included NeuroML2 file: ../channels/Navp.channel.nml (base: /home/bandi/workspace/ca1/NeuroML2/cells, resolved: /home/bandi/workspace/ca1/NeuroML2/channels/Navp.channel.nml, checking False)\n",
      "pyNeuroML >>> Loading NeuroML2 file: /home/bandi/workspace/ca1/NeuroML2/channels/Navp.channel.nml\n",
      "pyNeuroML >>> Including included files (included already: ['/home/bandi/workspace/ca1/NeuroML2/channels/CavL.channel.nml', '/home/bandi/workspace/ca1/NeuroML2/channels/CavN.channel.nml', '/home/bandi/workspace/ca1/NeuroML2/channels/KCaS.channel.nml', '/home/bandi/workspace/ca1/NeuroML2/channels/Kdrfast.channel.nml', '/home/bandi/workspace/ca1/NeuroML2/channels/KvA.channel.nml', '/home/bandi/workspace/ca1/NeuroML2/channels/KvCaB.channel.nml', '/home/bandi/workspace/ca1/NeuroML2/channels/Nav.channel.nml', '/home/bandi/workspace/ca1/NeuroML2/channels/leak_chan.channel.nml', '/home/bandi/workspace/ca1/NeuroML2/channels/Capool.nml', '/home/bandi/workspace/ca1/NeuroML2/cells/axoaxonic.cell.nml', '/home/bandi/workspace/ca1/NeuroML2/channels/Navbis.channel.nml', '/home/bandi/workspace/ca1/NeuroML2/cells/bistratified.cell.nml', '/home/bandi/workspace/ca1/NeuroML2/channels/HCN.channel.nml', '/home/bandi/workspace/ca1/NeuroML2/channels/KvGroup.channel.nml', '/home/bandi/workspace/ca1/NeuroML2/channels/Navcck.channel.nml', '/home/bandi/workspace/ca1/NeuroML2/cells/cck.cell.nml', '/home/bandi/workspace/ca1/NeuroML2/channels/Kdrfastngf.channel.nml', '/home/bandi/workspace/ca1/NeuroML2/channels/KvAngf.channel.nml', '/home/bandi/workspace/ca1/NeuroML2/channels/Navngf.channel.nml', '/home/bandi/workspace/ca1/NeuroML2/cells/ivy.cell.nml', '/home/bandi/workspace/ca1/NeuroML2/cells/ngf.cell.nml', '/home/bandi/workspace/ca1/NeuroML2/channels/HCNolm.channel.nml', '/home/bandi/workspace/ca1/NeuroML2/channels/KvAolm.channel.nml', '/home/bandi/workspace/ca1/NeuroML2/cells/olm.cell.nml', '/home/bandi/workspace/ca1/NeuroML2/channels/HCNp.channel.nml', '/home/bandi/workspace/ca1/NeuroML2/channels/Kdrp.channel.nml', '/home/bandi/workspace/ca1/NeuroML2/channels/KvAproxp.channel.nml', '/home/bandi/workspace/ca1/NeuroML2/channels/KvAdistp.channel.nml'])\n",
      "pyNeuroML >>> Loading included NeuroML2 file: ../channels/Navaxonp.channel.nml (base: /home/bandi/workspace/ca1/NeuroML2/cells, resolved: /home/bandi/workspace/ca1/NeuroML2/channels/Navaxonp.channel.nml, checking False)\n",
      "pyNeuroML >>> Loading NeuroML2 file: /home/bandi/workspace/ca1/NeuroML2/channels/Navaxonp.channel.nml\n",
      "pyNeuroML >>> Including included files (included already: ['/home/bandi/workspace/ca1/NeuroML2/channels/CavL.channel.nml', '/home/bandi/workspace/ca1/NeuroML2/channels/CavN.channel.nml', '/home/bandi/workspace/ca1/NeuroML2/channels/KCaS.channel.nml', '/home/bandi/workspace/ca1/NeuroML2/channels/Kdrfast.channel.nml', '/home/bandi/workspace/ca1/NeuroML2/channels/KvA.channel.nml', '/home/bandi/workspace/ca1/NeuroML2/channels/KvCaB.channel.nml', '/home/bandi/workspace/ca1/NeuroML2/channels/Nav.channel.nml', '/home/bandi/workspace/ca1/NeuroML2/channels/leak_chan.channel.nml', '/home/bandi/workspace/ca1/NeuroML2/channels/Capool.nml', '/home/bandi/workspace/ca1/NeuroML2/cells/axoaxonic.cell.nml', '/home/bandi/workspace/ca1/NeuroML2/channels/Navbis.channel.nml', '/home/bandi/workspace/ca1/NeuroML2/cells/bistratified.cell.nml', '/home/bandi/workspace/ca1/NeuroML2/channels/HCN.channel.nml', '/home/bandi/workspace/ca1/NeuroML2/channels/KvGroup.channel.nml', '/home/bandi/workspace/ca1/NeuroML2/channels/Navcck.channel.nml', '/home/bandi/workspace/ca1/NeuroML2/cells/cck.cell.nml', '/home/bandi/workspace/ca1/NeuroML2/channels/Kdrfastngf.channel.nml', '/home/bandi/workspace/ca1/NeuroML2/channels/KvAngf.channel.nml', '/home/bandi/workspace/ca1/NeuroML2/channels/Navngf.channel.nml', '/home/bandi/workspace/ca1/NeuroML2/cells/ivy.cell.nml', '/home/bandi/workspace/ca1/NeuroML2/cells/ngf.cell.nml', '/home/bandi/workspace/ca1/NeuroML2/channels/HCNolm.channel.nml', '/home/bandi/workspace/ca1/NeuroML2/channels/KvAolm.channel.nml', '/home/bandi/workspace/ca1/NeuroML2/cells/olm.cell.nml', '/home/bandi/workspace/ca1/NeuroML2/channels/HCNp.channel.nml', '/home/bandi/workspace/ca1/NeuroML2/channels/Kdrp.channel.nml', '/home/bandi/workspace/ca1/NeuroML2/channels/KvAproxp.channel.nml', '/home/bandi/workspace/ca1/NeuroML2/channels/KvAdistp.channel.nml', '/home/bandi/workspace/ca1/NeuroML2/channels/Navp.channel.nml'])\n",
      "pyNeuroML >>> Loading included NeuroML2 file: ../cells/pvbasket.cell.nml (base: /home/bandi/workspace/ca1/NeuroML2/network, resolved: /home/bandi/workspace/ca1/NeuroML2/cells/pvbasket.cell.nml, checking False)\n",
      "pyNeuroML >>> Loading NeuroML2 file: /home/bandi/workspace/ca1/NeuroML2/cells/pvbasket.cell.nml\n",
      "pyNeuroML >>> Including included files (included already: ['/home/bandi/workspace/ca1/NeuroML2/channels/CavL.channel.nml', '/home/bandi/workspace/ca1/NeuroML2/channels/CavN.channel.nml', '/home/bandi/workspace/ca1/NeuroML2/channels/KCaS.channel.nml', '/home/bandi/workspace/ca1/NeuroML2/channels/Kdrfast.channel.nml', '/home/bandi/workspace/ca1/NeuroML2/channels/KvA.channel.nml', '/home/bandi/workspace/ca1/NeuroML2/channels/KvCaB.channel.nml', '/home/bandi/workspace/ca1/NeuroML2/channels/Nav.channel.nml', '/home/bandi/workspace/ca1/NeuroML2/channels/leak_chan.channel.nml', '/home/bandi/workspace/ca1/NeuroML2/channels/Capool.nml', '/home/bandi/workspace/ca1/NeuroML2/cells/axoaxonic.cell.nml', '/home/bandi/workspace/ca1/NeuroML2/channels/Navbis.channel.nml', '/home/bandi/workspace/ca1/NeuroML2/cells/bistratified.cell.nml', '/home/bandi/workspace/ca1/NeuroML2/channels/HCN.channel.nml', '/home/bandi/workspace/ca1/NeuroML2/channels/KvGroup.channel.nml', '/home/bandi/workspace/ca1/NeuroML2/channels/Navcck.channel.nml', '/home/bandi/workspace/ca1/NeuroML2/cells/cck.cell.nml', '/home/bandi/workspace/ca1/NeuroML2/channels/Kdrfastngf.channel.nml', '/home/bandi/workspace/ca1/NeuroML2/channels/KvAngf.channel.nml', '/home/bandi/workspace/ca1/NeuroML2/channels/Navngf.channel.nml', '/home/bandi/workspace/ca1/NeuroML2/cells/ivy.cell.nml', '/home/bandi/workspace/ca1/NeuroML2/cells/ngf.cell.nml', '/home/bandi/workspace/ca1/NeuroML2/channels/HCNolm.channel.nml', '/home/bandi/workspace/ca1/NeuroML2/channels/KvAolm.channel.nml', '/home/bandi/workspace/ca1/NeuroML2/cells/olm.cell.nml', '/home/bandi/workspace/ca1/NeuroML2/channels/HCNp.channel.nml', '/home/bandi/workspace/ca1/NeuroML2/channels/Kdrp.channel.nml', '/home/bandi/workspace/ca1/NeuroML2/channels/KvAproxp.channel.nml', '/home/bandi/workspace/ca1/NeuroML2/channels/KvAdistp.channel.nml', '/home/bandi/workspace/ca1/NeuroML2/channels/Navp.channel.nml', '/home/bandi/workspace/ca1/NeuroML2/channels/Navaxonp.channel.nml', '/home/bandi/workspace/ca1/NeuroML2/cells/poolosyn.cell.nml'])\n",
      "pyNeuroML >>> Loading included NeuroML2 file: ../cells/sca.cell.nml (base: /home/bandi/workspace/ca1/NeuroML2/network, resolved: /home/bandi/workspace/ca1/NeuroML2/cells/sca.cell.nml, checking False)\n",
      "pyNeuroML >>> Loading NeuroML2 file: /home/bandi/workspace/ca1/NeuroML2/cells/sca.cell.nml\n",
      "pyNeuroML >>> Including included files (included already: ['/home/bandi/workspace/ca1/NeuroML2/channels/CavL.channel.nml', '/home/bandi/workspace/ca1/NeuroML2/channels/CavN.channel.nml', '/home/bandi/workspace/ca1/NeuroML2/channels/KCaS.channel.nml', '/home/bandi/workspace/ca1/NeuroML2/channels/Kdrfast.channel.nml', '/home/bandi/workspace/ca1/NeuroML2/channels/KvA.channel.nml', '/home/bandi/workspace/ca1/NeuroML2/channels/KvCaB.channel.nml', '/home/bandi/workspace/ca1/NeuroML2/channels/Nav.channel.nml', '/home/bandi/workspace/ca1/NeuroML2/channels/leak_chan.channel.nml', '/home/bandi/workspace/ca1/NeuroML2/channels/Capool.nml', '/home/bandi/workspace/ca1/NeuroML2/cells/axoaxonic.cell.nml', '/home/bandi/workspace/ca1/NeuroML2/channels/Navbis.channel.nml', '/home/bandi/workspace/ca1/NeuroML2/cells/bistratified.cell.nml', '/home/bandi/workspace/ca1/NeuroML2/channels/HCN.channel.nml', '/home/bandi/workspace/ca1/NeuroML2/channels/KvGroup.channel.nml', '/home/bandi/workspace/ca1/NeuroML2/channels/Navcck.channel.nml', '/home/bandi/workspace/ca1/NeuroML2/cells/cck.cell.nml', '/home/bandi/workspace/ca1/NeuroML2/channels/Kdrfastngf.channel.nml', '/home/bandi/workspace/ca1/NeuroML2/channels/KvAngf.channel.nml', '/home/bandi/workspace/ca1/NeuroML2/channels/Navngf.channel.nml', '/home/bandi/workspace/ca1/NeuroML2/cells/ivy.cell.nml', '/home/bandi/workspace/ca1/NeuroML2/cells/ngf.cell.nml', '/home/bandi/workspace/ca1/NeuroML2/channels/HCNolm.channel.nml', '/home/bandi/workspace/ca1/NeuroML2/channels/KvAolm.channel.nml', '/home/bandi/workspace/ca1/NeuroML2/cells/olm.cell.nml', '/home/bandi/workspace/ca1/NeuroML2/channels/HCNp.channel.nml', '/home/bandi/workspace/ca1/NeuroML2/channels/Kdrp.channel.nml', '/home/bandi/workspace/ca1/NeuroML2/channels/KvAproxp.channel.nml', '/home/bandi/workspace/ca1/NeuroML2/channels/KvAdistp.channel.nml', '/home/bandi/workspace/ca1/NeuroML2/channels/Navp.channel.nml', '/home/bandi/workspace/ca1/NeuroML2/channels/Navaxonp.channel.nml', '/home/bandi/workspace/ca1/NeuroML2/cells/poolosyn.cell.nml', '/home/bandi/workspace/ca1/NeuroML2/cells/pvbasket.cell.nml'])\n",
      "pyNeuroML >>> Copying NeuroML file (HippocampalNet_scale5000_oc.net.nml) to: . (/home/bandi/workspace/ca1/NeuroML2/network)\n",
      "pyNeuroML >>> Written LEMS Simulation Sim_HippocampalNet_scale5000_oc to file: ./LEMS_HippocampalNet_scale5000_oc.xml\n"
     ]
    }
   ],
   "source": [
    "from GenerateHippocampalNet_oc import generate_lems\n",
    "\n",
    "# generating LEMS simulation\n",
    "lems_fName = generate_lems(nml_doc, network, dPops, duration=duration)"
   ]
  },
  {
   "cell_type": "code",
   "execution_count": 15,
   "metadata": {
    "collapsed": false
   },
   "outputs": [
    {
     "name": "stdout",
     "output_type": "stream",
     "text": [
      "[Errno 2] No such file or directory: '../../NSG'\n",
      "/home/bandi/workspace/ca1/NSG\n"
     ]
    }
   ],
   "source": [
    "# go back to main 'NSG' directory\n",
    "%cd ../../NSG"
   ]
  },
  {
   "cell_type": "markdown",
   "metadata": {},
   "source": [
    "### Submit jobs to NSG-R\n",
    "\n",
    "The block of cells below, will guid through submitting jobs the NSG's REST API, but first youl'll have to get an account!\n",
    "\n",
    "**Sign up to the NSG REST server**\n",
    "\n",
    "1. Go to https://nsgr.sdsc.edu:8443/restusers/login.action and register for a new account\n",
    "2. Log in to the service\n",
    "3. Go to Developer -> Application Management\n",
    "4. Click Create New Application\n",
    "5. Create the application, describing what you'll be using the service for. **Please take the time to add relevant info here. Having access to this information will help the developers justify the resource and keep it free for the community!**\n",
    "6. Make sure to set Authentication Type to DIRECT.\n",
    "7. Make a note of the Application ID\n",
    "8. Copy the [nsgrest_example.conf](https://github.com/mbezaire/ca1/blob/development/NSG/nsgrest_example.conf) file to **nsgrest.conf** and move it to your home folder\n",
    "9. Update the details there with the information you entered on the NSG REST server:\n",
    "\n",
    "    ```\n",
    "    URL=https://nsgr.sdsc.edu:8443/cipresrest/v1\n",
    "    USERNAME=uuuuuu\n",
    "    PASSWORD=xxxxxx\n",
    "    DIRECT_APPID=Direct111111111111\n",
    "   ```\n",
    "   \n",
    "> `DIRECT_APPID` should be set to your Application ID\n",
    "\n",
    "The simulation is parallelized under the hood with NetPyNE.\n",
    "\n",
    "> In order to convert LEMS to NetPyNE you'll have to get [NetPyNE](https://github.com/Neurosim-lab/netpyne). If you've skipped the previous part, please install [pyNeuroML](https://github.com/NeuroML/pyNeuroML) now!"
   ]
  },
  {
   "cell_type": "code",
   "execution_count": 1,
   "metadata": {
    "collapsed": false
   },
   "outputs": [],
   "source": [
    "# one more chance to set scale\n",
    "try:\n",
    "    scale\n",
    "except:\n",
    "    scale = 5000"
   ]
  },
  {
   "cell_type": "code",
   "execution_count": 2,
   "metadata": {
    "collapsed": false
   },
   "outputs": [
    {
     "name": "stdout",
     "output_type": "stream",
     "text": [
      "Directory created with NeuroML2 version - scale:5000\n"
     ]
    }
   ],
   "source": [
    "from zip_nml_forNSG import create_folder\n",
    "\n",
    "zipName = \"CA1_nml\"\n",
    "networkName = \"HippocampalNet_scale%s_oc\"%scale\n",
    "\n",
    "# move necessary files to a subfolder (in the NSG preferred way), which will be zipped later\n",
    "mainDirName = create_folder(zipName, networkName, copysyn=False)\n",
    "print(\"Directory created with NeuroML2 version - scale:%s\"%scale)"
   ]
  },
  {
   "cell_type": "code",
   "execution_count": 3,
   "metadata": {
    "collapsed": false
   },
   "outputs": [
    {
     "name": "stdout",
     "output_type": "stream",
     "text": [
      "pyNeuroML >>> Executing: (java -Xmx8G  -jar  \"/usr/local/lib/python2.7/dist-packages/pyNeuroML-0.3.1-py2.7.egg/pyneuroml/lib/jNeuroML-0.8.3-jar-with-dependencies.jar\"  \"LEMS_HippocampalNet_scale5000_oc.xml\" -netpyne) in directory: /home/bandi/workspace/ca1/NSG/CA1_nml/network\n",
      "pyNeuroML >>> Command completed. Output: \n",
      "pyNeuroML >>>   jNeuroML >>   jNeuroML v0.8.3\n",
      "pyNeuroML >>>   jNeuroML >>  (INFO) Reading from: /home/bandi/workspace/ca1/NSG/CA1_nml/network/LEMS_HippocampalNet_scale5000_oc.xml\n",
      "pyNeuroML >>>   jNeuroML >>  (WARNING) Unused attribute in Component(id=fixedCapool type=FixedCaConcentrationModel): XMLAttribute(ion, ca)  at: org.lemsml.jlems.core.type.Component.resolve(Component.java:539)\n",
      "pyNeuroML >>>   jNeuroML >>  (WARNING) Unused attribute in Component(id=Sim_HippocampalNet_scale5000_oc type=Simulation): XMLAttribute(seed, 12345)  at: \n",
      "pyNeuroML >>>   jNeuroML >>  (INFO) Creating NeuronWriter for ---\n",
      "pyNeuroML >>>   jNeuroML >>  (INFO) -- Writing to hoc: /home/bandi/workspace/ca1/NSG/CA1_nml/network/ngfcell.hoc\n",
      "pyNeuroML >>>   jNeuroML >>  (INFO) -- Writing to mod: /home/bandi/workspace/ca1/NSG/CA1_nml/network/KCaS.mod\n",
      "pyNeuroML >>>   jNeuroML >>  (INFO) -- Writing to mod: /home/bandi/workspace/ca1/NSG/CA1_nml/network/Kdrfastngf.mod\n",
      "pyNeuroML >>>   jNeuroML >>  (INFO) -- Writing to mod: /home/bandi/workspace/ca1/NSG/CA1_nml/network/KvAngf.mod\n",
      "pyNeuroML >>>   jNeuroML >>  (INFO) -- Writing to mod: /home/bandi/workspace/ca1/NSG/CA1_nml/network/KvCaB.mod\n",
      "pyNeuroML >>>   jNeuroML >>  (INFO) -- Writing to mod: /home/bandi/workspace/ca1/NSG/CA1_nml/network/Navngf.mod\n",
      "pyNeuroML >>>   jNeuroML >>  (INFO) -- Writing to mod: /home/bandi/workspace/ca1/NSG/CA1_nml/network/leak_chan.mod\n",
      "pyNeuroML >>>   jNeuroML >>  (INFO) -- Writing to mod: /home/bandi/workspace/ca1/NSG/CA1_nml/network/CavN.mod\n",
      "pyNeuroML >>>   jNeuroML >>  (INFO) -- Writing to mod: /home/bandi/workspace/ca1/NSG/CA1_nml/network/CavL.mod\n",
      "pyNeuroML >>>   jNeuroML >>  (INFO) -- Writing to mod: /home/bandi/workspace/ca1/NSG/CA1_nml/network/Capoolngf.mod\n",
      "pyNeuroML >>>   jNeuroML >>  (INFO) -- Writing to hoc: /home/bandi/workspace/ca1/NSG/CA1_nml/network/bistratifiedcell.hoc\n",
      "pyNeuroML >>>   jNeuroML >>  (INFO) -- Writing to mod: /home/bandi/workspace/ca1/NSG/CA1_nml/network/Kdrfast.mod\n",
      "pyNeuroML >>>   jNeuroML >>  (INFO) -- Writing to mod: /home/bandi/workspace/ca1/NSG/CA1_nml/network/KvA.mod\n",
      "pyNeuroML >>>   jNeuroML >>  (INFO) -- Writing to mod: /home/bandi/workspace/ca1/NSG/CA1_nml/network/Navbis.mod\n",
      "pyNeuroML >>>   jNeuroML >>  (INFO) -- Writing to mod: /home/bandi/workspace/ca1/NSG/CA1_nml/network/fixedCapool.mod\n",
      "pyNeuroML >>>   jNeuroML >>  (INFO) -- Writing to hoc: /home/bandi/workspace/ca1/NSG/CA1_nml/network/scacell.hoc\n",
      "pyNeuroML >>>   jNeuroML >>  (INFO) -- Writing to mod: /home/bandi/workspace/ca1/NSG/CA1_nml/network/HCN.mod\n",
      "pyNeuroML >>>   jNeuroML >>  (INFO) -- Writing to mod: /home/bandi/workspace/ca1/NSG/CA1_nml/network/KvGroup.mod\n",
      "pyNeuroML >>>   jNeuroML >>  (INFO) -- Writing to mod: /home/bandi/workspace/ca1/NSG/CA1_nml/network/Navcck.mod\n",
      "pyNeuroML >>>   jNeuroML >>  (INFO) -- Writing to mod: /home/bandi/workspace/ca1/NSG/CA1_nml/network/Capool.mod\n",
      "pyNeuroML >>>   jNeuroML >>  (INFO) -- Writing to hoc: /home/bandi/workspace/ca1/NSG/CA1_nml/network/olmcell.hoc\n",
      "pyNeuroML >>>   jNeuroML >>  (INFO) -- Writing to mod: /home/bandi/workspace/ca1/NSG/CA1_nml/network/HCNolm.mod\n",
      "pyNeuroML >>>   jNeuroML >>  (INFO) -- Writing to mod: /home/bandi/workspace/ca1/NSG/CA1_nml/network/KvAolm.mod\n",
      "pyNeuroML >>>   jNeuroML >>  (INFO) -- Writing to mod: /home/bandi/workspace/ca1/NSG/CA1_nml/network/Nav.mod\n",
      "pyNeuroML >>>   jNeuroML >>  (INFO) -- Writing to mod: /home/bandi/workspace/ca1/NSG/CA1_nml/network/stim_ec.mod\n",
      "pyNeuroML >>>   jNeuroML >>  (INFO) -- Writing to hoc: /home/bandi/workspace/ca1/NSG/CA1_nml/network/poolosyncell.hoc\n",
      "pyNeuroML >>>   jNeuroML >>  (INFO) -- Writing to mod: /home/bandi/workspace/ca1/NSG/CA1_nml/network/HCNsomap.mod\n",
      "pyNeuroML >>>   jNeuroML >>  (INFO) -- Writing to mod: /home/bandi/workspace/ca1/NSG/CA1_nml/network/Kdrp.mod\n",
      "pyNeuroML >>>   jNeuroML >>  (INFO) -- Writing to mod: /home/bandi/workspace/ca1/NSG/CA1_nml/network/KvAproxp.mod\n",
      "pyNeuroML >>>   jNeuroML >>  (INFO) -- Writing to mod: /home/bandi/workspace/ca1/NSG/CA1_nml/network/Navp.mod\n",
      "pyNeuroML >>>   jNeuroML >>  (INFO) -- Writing to mod: /home/bandi/workspace/ca1/NSG/CA1_nml/network/Navaxonp.mod\n",
      "pyNeuroML >>>   jNeuroML >>  (INFO) -- Writing to mod: /home/bandi/workspace/ca1/NSG/CA1_nml/network/HCNp.mod\n",
      "pyNeuroML >>>   jNeuroML >>  (INFO) -- Writing to mod: /home/bandi/workspace/ca1/NSG/CA1_nml/network/KvAdistp.mod\n",
      "pyNeuroML >>>   jNeuroML >>  (INFO) -- Writing to mod: /home/bandi/workspace/ca1/NSG/CA1_nml/network/Navapicalp.mod\n",
      "pyNeuroML >>>   jNeuroML >>  (INFO) -- Writing to hoc: /home/bandi/workspace/ca1/NSG/CA1_nml/network/pvbasketcell.hoc\n",
      "pyNeuroML >>>   jNeuroML >>  (INFO) -- Writing to mod: /home/bandi/workspace/ca1/NSG/CA1_nml/network/stim_ca3.mod\n",
      "pyNeuroML >>>   jNeuroML >>  (INFO) -- Writing to hoc: /home/bandi/workspace/ca1/NSG/CA1_nml/network/cckcell.hoc\n",
      "pyNeuroML >>>   jNeuroML >>  (INFO) -- Writing to hoc: /home/bandi/workspace/ca1/NSG/CA1_nml/network/axoaxoniccell.hoc\n",
      "pyNeuroML >>>   jNeuroML >>  (INFO) -- Writing to hoc: /home/bandi/workspace/ca1/NSG/CA1_nml/network/ivycell.hoc\n",
      "pyNeuroML >>>   jNeuroML >>  (INFO) -- Writing to mod: /home/bandi/workspace/ca1/NSG/CA1_nml/network/syn_cck_to_bistratified.mod\n",
      "pyNeuroML >>>   jNeuroML >>  (INFO) -- Writing to mod: /home/bandi/workspace/ca1/NSG/CA1_nml/network/syn_ca3_to_poolosyn.mod\n",
      "pyNeuroML >>>   jNeuroML >>  (INFO) -- Writing to mod: /home/bandi/workspace/ca1/NSG/CA1_nml/network/syn_sca_to_pvbasket.mod\n",
      "pyNeuroML >>>   jNeuroML >>  (INFO) -- Writing to mod: /home/bandi/workspace/ca1/NSG/CA1_nml/network/syn_ec_to_ngf.mod\n",
      "pyNeuroML >>>   jNeuroML >>  (INFO) -- Writing to mod: /home/bandi/workspace/ca1/NSG/CA1_nml/network/syn_ca3_to_bistratified.mod\n",
      "pyNeuroML >>>   jNeuroML >>  (INFO) -- Writing to mod: /home/bandi/workspace/ca1/NSG/CA1_nml/network/syn_bistratified_to_olm.mod\n",
      "pyNeuroML >>>   jNeuroML >>  (INFO) -- Writing to mod: /home/bandi/workspace/ca1/NSG/CA1_nml/network/syn_ivy_to_axoaxonic.mod\n",
      "pyNeuroML >>>   jNeuroML >>  (INFO) -- Writing to mod: /home/bandi/workspace/ca1/NSG/CA1_nml/network/syn_poolosyn_to_sca.mod\n",
      "pyNeuroML >>>   jNeuroML >>  (INFO) -- Writing to mod: /home/bandi/workspace/ca1/NSG/CA1_nml/network/syn_bistratified_to_axoaxonic.mod\n",
      "pyNeuroML >>>   jNeuroML >>  (INFO) -- Writing to mod: /home/bandi/workspace/ca1/NSG/CA1_nml/network/syn_ivy_to_bistratified.mod\n",
      "pyNeuroML >>>   jNeuroML >>  (INFO) -- Writing to mod: /home/bandi/workspace/ca1/NSG/CA1_nml/network/syn_cck_to_ivy.mod\n",
      "pyNeuroML >>>   jNeuroML >>  (INFO) -- Writing to mod: /home/bandi/workspace/ca1/NSG/CA1_nml/network/syn_ca3_to_ivy.mod\n",
      "pyNeuroML >>>   jNeuroML >>  (INFO) -- Writing to mod: /home/bandi/workspace/ca1/NSG/CA1_nml/network/syn_ivy_to_cck.mod\n",
      "pyNeuroML >>>   jNeuroML >>  (INFO) -- Writing to mod: /home/bandi/workspace/ca1/NSG/CA1_nml/network/syn_pvbasket_to_bistratified.mod\n",
      "pyNeuroML >>>   jNeuroML >>  (INFO) -- Writing to mod: /home/bandi/workspace/ca1/NSG/CA1_nml/network/syn_pvbasket_to_poolosyn.mod\n",
      "pyNeuroML >>>   jNeuroML >>  (INFO) -- Writing to mod: /home/bandi/workspace/ca1/NSG/CA1_nml/network/syn_olm_to_cck.mod\n",
      "pyNeuroML >>>   jNeuroML >>  (INFO) -- Writing to mod: /home/bandi/workspace/ca1/NSG/CA1_nml/network/syn_ec_to_cck.mod\n",
      "pyNeuroML >>>   jNeuroML >>  (INFO) -- Writing to mod: /home/bandi/workspace/ca1/NSG/CA1_nml/network/syn_bistratified_to_cck.mod\n",
      "pyNeuroML >>>   jNeuroML >>  (INFO) -- Writing to mod: /home/bandi/workspace/ca1/NSG/CA1_nml/network/syn_ngf_to_poolosyn_A.mod\n",
      "pyNeuroML >>>   jNeuroML >>  (INFO) -- Writing to mod: /home/bandi/workspace/ca1/NSG/CA1_nml/network/syn_ngf_to_poolosyn_B.mod\n",
      "pyNeuroML >>>   jNeuroML >>  (INFO) -- Writing to mod: /home/bandi/workspace/ca1/NSG/CA1_nml/network/syn_ivy_to_sca.mod\n",
      "pyNeuroML >>>   jNeuroML >>  (INFO) -- Writing to mod: /home/bandi/workspace/ca1/NSG/CA1_nml/network/syn_poolosyn_to_bistratified.mod\n",
      "pyNeuroML >>>   jNeuroML >>  (INFO) -- Writing to mod: /home/bandi/workspace/ca1/NSG/CA1_nml/network/syn_olm_to_poolosyn.mod\n",
      "pyNeuroML >>>   jNeuroML >>  (INFO) -- Writing to mod: /home/bandi/workspace/ca1/NSG/CA1_nml/network/syn_ivy_to_olm.mod\n",
      "pyNeuroML >>>   jNeuroML >>  (INFO) -- Writing to mod: /home/bandi/workspace/ca1/NSG/CA1_nml/network/syn_pvbasket_to_sca.mod\n",
      "pyNeuroML >>>   jNeuroML >>  (INFO) -- Writing to mod: /home/bandi/workspace/ca1/NSG/CA1_nml/network/syn_poolosyn_to_axoaxonic.mod\n",
      "pyNeuroML >>>   jNeuroML >>  (INFO) -- Writing to mod: /home/bandi/workspace/ca1/NSG/CA1_nml/network/syn_bistratified_to_ivy.mod\n",
      "pyNeuroML >>>   jNeuroML >>  (INFO) -- Writing to mod: /home/bandi/workspace/ca1/NSG/CA1_nml/network/syn_poolosyn_to_ivy.mod\n",
      "pyNeuroML >>>   jNeuroML >>  (INFO) -- Writing to mod: /home/bandi/workspace/ca1/NSG/CA1_nml/network/syn_ec_to_sca.mod\n",
      "pyNeuroML >>>   jNeuroML >>  (INFO) -- Writing to mod: /home/bandi/workspace/ca1/NSG/CA1_nml/network/syn_cck_to_pvbasket.mod\n",
      "pyNeuroML >>>   jNeuroML >>  (INFO) -- Writing to mod: /home/bandi/workspace/ca1/NSG/CA1_nml/network/syn_olm_to_axoaxonic.mod\n",
      "pyNeuroML >>>   jNeuroML >>  (INFO) -- Writing to mod: /home/bandi/workspace/ca1/NSG/CA1_nml/network/syn_axoaxonic_to_poolosyn.mod\n",
      "pyNeuroML >>>   jNeuroML >>  (INFO) -- Writing to mod: /home/bandi/workspace/ca1/NSG/CA1_nml/network/syn_bistratified_to_poolosyn.mod\n",
      "pyNeuroML >>>   jNeuroML >>  (INFO) -- Writing to mod: /home/bandi/workspace/ca1/NSG/CA1_nml/network/syn_sca_to_ivy.mod\n",
      "pyNeuroML >>>   jNeuroML >>  (INFO) -- Writing to mod: /home/bandi/workspace/ca1/NSG/CA1_nml/network/syn_ca3_to_pvbasket.mod\n",
      "pyNeuroML >>>   jNeuroML >>  (INFO) -- Writing to mod: /home/bandi/workspace/ca1/NSG/CA1_nml/network/syn_pvbasket_to_cck.mod\n",
      "pyNeuroML >>>   jNeuroML >>  (INFO) -- Writing to mod: /home/bandi/workspace/ca1/NSG/CA1_nml/network/syn_ivy_to_ngf.mod\n",
      "pyNeuroML >>>   jNeuroML >>  (INFO) -- Writing to mod: /home/bandi/workspace/ca1/NSG/CA1_nml/network/syn_ec_to_axoaxonic.mod\n",
      "pyNeuroML >>>   jNeuroML >>  (INFO) -- Writing to mod: /home/bandi/workspace/ca1/NSG/CA1_nml/network/syn_olm_to_ngf.mod\n",
      "pyNeuroML >>>   jNeuroML >>  (INFO) -- Writing to mod: /home/bandi/workspace/ca1/NSG/CA1_nml/network/syn_cck_to_poolosyn.mod\n",
      "pyNeuroML >>>   jNeuroML >>  (INFO) -- Writing to mod: /home/bandi/workspace/ca1/NSG/CA1_nml/network/syn_olm_to_sca.mod\n",
      "pyNeuroML >>>   jNeuroML >>  (INFO) -- Writing to mod: /home/bandi/workspace/ca1/NSG/CA1_nml/network/syn_sca_to_cck.mod\n",
      "pyNeuroML >>>   jNeuroML >>  (INFO) -- Writing to mod: /home/bandi/workspace/ca1/NSG/CA1_nml/network/syn_cck_to_olm.mod\n",
      "pyNeuroML >>>   jNeuroML >>  (INFO) -- Writing to mod: /home/bandi/workspace/ca1/NSG/CA1_nml/network/syn_ca3_to_sca.mod\n",
      "pyNeuroML >>>   jNeuroML >>  (INFO) -- Writing to mod: /home/bandi/workspace/ca1/NSG/CA1_nml/network/syn_ivy_to_poolosyn.mod\n",
      "pyNeuroML >>>   jNeuroML >>  (INFO) -- Writing to mod: /home/bandi/workspace/ca1/NSG/CA1_nml/network/syn_cck_to_axoaxonic.mod\n",
      "pyNeuroML >>>   jNeuroML >>  (INFO) -- Writing to mod: /home/bandi/workspace/ca1/NSG/CA1_nml/network/syn_ca3_to_axoaxonic.mod\n",
      "pyNeuroML >>>   jNeuroML >>  (INFO) -- Writing to mod: /home/bandi/workspace/ca1/NSG/CA1_nml/network/syn_sca_to_axoaxonic.mod\n",
      "pyNeuroML >>>   jNeuroML >>  (INFO) -- Writing to mod: /home/bandi/workspace/ca1/NSG/CA1_nml/network/syn_cck_to_sca.mod\n",
      "pyNeuroML >>>   jNeuroML >>  (INFO) -- Writing to mod: /home/bandi/workspace/ca1/NSG/CA1_nml/network/syn_olm_to_pvbasket.mod\n",
      "pyNeuroML >>>   jNeuroML >>  (INFO) -- Writing to mod: /home/bandi/workspace/ca1/NSG/CA1_nml/network/syn_sca_to_poolosyn.mod\n",
      "pyNeuroML >>>   jNeuroML >>  (INFO) -- Writing to mod: /home/bandi/workspace/ca1/NSG/CA1_nml/network/syn_poolosyn_to_pvbasket.mod\n",
      "pyNeuroML >>>   jNeuroML >>  (INFO) -- Writing to mod: /home/bandi/workspace/ca1/NSG/CA1_nml/network/syn_ec_to_poolosyn.mod\n",
      "pyNeuroML >>>   jNeuroML >>  (INFO) -- Writing to mod: /home/bandi/workspace/ca1/NSG/CA1_nml/network/syn_sca_to_olm.mod\n",
      "pyNeuroML >>>   jNeuroML >>  (INFO) -- Writing to mod: /home/bandi/workspace/ca1/NSG/CA1_nml/network/syn_poolosyn_to_poolosyn.mod\n",
      "pyNeuroML >>>   jNeuroML >>  (INFO) -- Writing to mod: /home/bandi/workspace/ca1/NSG/CA1_nml/network/syn_bistratified_to_sca.mod\n",
      "pyNeuroML >>>   jNeuroML >>  (INFO) -- Writing to mod: /home/bandi/workspace/ca1/NSG/CA1_nml/network/syn_ec_to_bistratified.mod\n",
      "pyNeuroML >>>   jNeuroML >>  (INFO) -- Writing to mod: /home/bandi/workspace/ca1/NSG/CA1_nml/network/syn_bistratified_to_pvbasket.mod\n",
      "pyNeuroML >>>   jNeuroML >>  (INFO) -- Writing to mod: /home/bandi/workspace/ca1/NSG/CA1_nml/network/syn_olm_to_bistratified.mod\n",
      "pyNeuroML >>>   jNeuroML >>  (INFO) -- Writing to mod: /home/bandi/workspace/ca1/NSG/CA1_nml/network/syn_ca3_to_cck.mod\n",
      "pyNeuroML >>>   jNeuroML >>  (INFO) -- Writing to mod: /home/bandi/workspace/ca1/NSG/CA1_nml/network/syn_pvbasket_to_ivy.mod\n",
      "pyNeuroML >>>   jNeuroML >>  (INFO) -- Writing to mod: /home/bandi/workspace/ca1/NSG/CA1_nml/network/syn_pvbasket_to_axoaxonic.mod\n",
      "pyNeuroML >>>   jNeuroML >>  (INFO) -- Writing to mod: /home/bandi/workspace/ca1/NSG/CA1_nml/network/syn_sca_to_bistratified.mod\n",
      "pyNeuroML >>>   jNeuroML >>  (INFO) -- Writing to mod: /home/bandi/workspace/ca1/NSG/CA1_nml/network/syn_ivy_to_pvbasket.mod\n",
      "pyNeuroML >>>   jNeuroML >>  (INFO) -- Writing to mod: /home/bandi/workspace/ca1/NSG/CA1_nml/network/syn_poolosyn_to_olm.mod\n",
      "pyNeuroML >>>   jNeuroML >>  (INFO) Saving main NetPyNE file to: /home/bandi/workspace/ca1/NSG/CA1_nml/network/LEMS_HippocampalNet_scale5000_oc_netpyne.py\n",
      "pyNeuroML >>>   jNeuroML >>  \n"
     ]
    }
   ],
   "source": [
    "import os\n",
    "import shutil\n",
    "from pyneuroml import pynml\n",
    "\n",
    "max_JAVA_memory = \"8G\"  # JAVA heap memory used by jnml to generate the NetPyNE simulation \n",
    "\n",
    "# generate NetPyNE simulation (this might take some time)\n",
    "pynml.run_jneuroml(\"\", \"LEMS_%s.xml\"%networkName, \"-netpyne\",\n",
    "                   max_memory=max_JAVA_memory, exec_in_dir=os.path.join(mainDirName, \"network\"), verbose=True)  # increase heap size if necessary!\n",
    "\n",
    "# move generated .mod files into root (for NSG)           \n",
    "for file_ in os.listdir(os.path.join(mainDirName, \"network\")):\n",
    "    if file_.endswith(\".mod\"):\n",
    "        shutil.move(os.path.join(mainDirName, \"network\", file_), os.path.join(mainDirName, file_))"
   ]
  },
  {
   "cell_type": "code",
   "execution_count": 4,
   "metadata": {
    "collapsed": false
   },
   "outputs": [
    {
     "name": "stdout",
     "output_type": "stream",
     "text": [
      "zip file created: /home/bandi/workspace/ca1/NSG/CA1_nml.zip\n"
     ]
    }
   ],
   "source": [
    "from zip_nml_forNSG import create_init, create_zip\n",
    "\n",
    "# zips the subfolder, with all the necessary files inside!\n",
    "create_init(mainDirName, networkName)\n",
    "create_zip(zipName, mainDirName, rm=False)"
   ]
  },
  {
   "cell_type": "markdown",
   "metadata": {},
   "source": [
    "Python could be used to interact with NSG, but we're going to use `curl` commands in shell scripts, called from here.\n",
    "(It'll use CA1_nml.zip created above. If you've changed the `zip_name` above you'll have to change `submit_nml_toNSG.sh`)\n",
    "> Note: make sure, you've set up everything and put `nsgrest.conf` to your home directory"
   ]
  },
  {
   "cell_type": "code",
   "execution_count": 2,
   "metadata": {
    "collapsed": false
   },
   "outputs": [
    {
     "name": "stdout",
     "output_type": "stream",
     "text": [
      "Read in data for NSG REST API user: andrisecker to access: https://nsgr.sdsc.edu:8443/cipresrest/v1...\n",
      "Accessing: https://nsgr.sdsc.edu:8443/cipresrest/v1/job/andrisecker for user andrisecker\n",
      "HTTP/1.1 100 Continue\n",
      "\n",
      "HTTP/1.1 200 OK\n",
      "Server: Apache-Coyote/1.1\n",
      "Content-Type: application/xml\n",
      "Transfer-Encoding: chunked\n",
      "Date: Sun, 17 Sep 2017 17:44:26 GMT\n",
      "\n",
      "<?xml version=\"1.0\" encoding=\"UTF-8\" standalone=\"yes\"?>\n",
      "<jobstatus>\n",
      "    <selfUri>\n",
      "        <url>https://nsgr.sdsc.edu:8443/cipresrest/v1/job/andrisecker/NGBW-JOB-OSBPYNEURON74-0FCC245C86734CF7A4CBD7A80A607EB2</url>\n",
      "        <rel>jobstatus</rel>\n",
      "        <title>NGBW-JOB-OSBPYNEURON74-0FCC245C86734CF7A4CBD7A80A607EB2</title>\n",
      "    </selfUri>\n",
      "    <jobHandle>NGBW-JOB-OSBPYNEURON74-0FCC245C86734CF7A4CBD7A80A607EB2</jobHandle>\n",
      "    <jobStage>QUEUE</jobStage>\n",
      "    <terminalStage>false</terminalStage>\n",
      "    <failed>false</failed>\n",
      "    <metadata>\n",
      "        <entry>\n",
      "            <key>statusEmail</key>\n",
      "            <value>true</value>\n",
      "        </entry>\n",
      "        <entry>\n",
      "            <key>clientJobId</key>\n",
      "            <value>Test_nml</value>\n",
      "        </entry>\n",
      "    </metadata>\n",
      "    <dateSubmitted>2017-09-17T10:44:21-07:00</dateSubmitted>\n",
      "    <resultsUri>\n",
      "        <url>https://nsgr.sdsc.edu:8443/cipresrest/v1/job/andrisecker/NGBW-JOB-OSBPYNEURON74-0FCC245C86734CF7A4CBD7A80A607EB2/output</url>\n",
      "        <rel>results</rel>\n",
      "        <title>Job Results</title>\n",
      "    </resultsUri>\n",
      "    <workingDirUri>\n",
      "        <url>https://nsgr.sdsc.edu:8443/cipresrest/v1/job/andrisecker/NGBW-JOB-OSBPYNEURON74-0FCC245C86734CF7A4CBD7A80A607EB2/workingdir</url>\n",
      "        <rel>workingdir</rel>\n",
      "        <title>Job Working Directory</title>\n",
      "    </workingDirUri>\n",
      "    <messages>\n",
      "        <message>\n",
      "            <timestamp>2017-09-17T10:44:26-07:00</timestamp>\n",
      "            <stage>QUEUE</stage>\n",
      "            <text>Added to NSG run queue.</text>\n",
      "        </message>\n",
      "    </messages>\n",
      "    <minPollIntervalSeconds>60</minPollIntervalSeconds>\n",
      "</jobstatus>\n"
     ]
    }
   ],
   "source": [
    "jobID = \"Test_nml\"\n",
    "numNodes = 2  # number of nodes to use, each with 24 cores\n",
    "runHours = 1  # allocated time for the whole simulation\n",
    "\n",
    "!./submit_nml_toNSG.sh $jobID $numNodes $runHours"
   ]
  },
  {
   "cell_type": "markdown",
   "metadata": {},
   "source": [
    "If you want, you can list your current jobs:"
   ]
  },
  {
   "cell_type": "code",
   "execution_count": 11,
   "metadata": {
    "collapsed": false
   },
   "outputs": [],
   "source": [
    "!./list_jobs.sh"
   ]
  },
  {
   "cell_type": "markdown",
   "metadata": {
    "collapsed": true
   },
   "source": [
    "### Downloading results\n",
    "\n",
    "**You'll have to wait until the job is finished and then return to the notebook...**\n",
    "\n",
    "After the task is finished you'll get an e-mail, with the name of the NSG job... Copy that into `jobName` and run the cells bellow.\n",
    "> Note: the name should look like: NGBW-JOB-OSBPYNEURON74-<randomID>"
   ]
  },
  {
   "cell_type": "code",
   "execution_count": 7,
   "metadata": {
    "collapsed": false
   },
   "outputs": [
    {
     "name": "stdout",
     "output_type": "stream",
     "text": [
      "Read in data for NSG REST API user: andrisecker to access: https://nsgr.sdsc.edu:8443/cipresrest/v1...\n",
      "Accessing: https://nsgr.sdsc.edu:8443/cipresrest/v1/job/andrisecker/NGBW-JOB-OSBPYNEURON74-0FCC245C86734CF7A4CBD7A80A607EB2 for user andrisecker\n",
      "HTTP/1.1 200 OK\n",
      "Server: Apache-Coyote/1.1\n",
      "Cache-Control: private\n",
      "Expires: Wed, 31 Dec 1969 16:00:00 PST\n",
      "Content-Type: application/xml\n",
      "Transfer-Encoding: chunked\n",
      "Date: Sun, 17 Sep 2017 17:55:08 GMT\n",
      "\n",
      "<?xml version=\"1.0\" encoding=\"UTF-8\" standalone=\"yes\"?>\n",
      "<results>\n",
      "    <jobfiles>\n",
      "        <jobfile>\n",
      "            <downloadUri>\n",
      "                <url>https://nsgr.sdsc.edu:8443/cipresrest/v1/job/andrisecker/NGBW-JOB-OSBPYNEURON74-0FCC245C86734CF7A4CBD7A80A607EB2/output/1717</url>\n",
      "                <rel>fileDownload</rel>\n",
      "                <title>STDOUT</title>\n",
      "            </downloadUri>\n",
      "            <jobHandle>NGBW-JOB-OSBPYNEURON74-0FCC245C86734CF7A4CBD7A80A607EB2</jobHandle>\n",
      "            <filename>STDOUT</filename>\n",
      "            <length>81752</length>\n",
      "            <parameterName>PROCESS_OUTPUT</parameterName>\n",
      "            <outputDocumentId>1717</outputDocumentId>\n",
      "        </jobfile>\n",
      "        <jobfile>\n",
      "            <downloadUri>\n",
      "                <url>https://nsgr.sdsc.edu:8443/cipresrest/v1/job/andrisecker/NGBW-JOB-OSBPYNEURON74-0FCC245C86734CF7A4CBD7A80A607EB2/output/1718</url>\n",
      "                <rel>fileDownload</rel>\n",
      "                <title>STDERR</title>\n",
      "            </downloadUri>\n",
      "            <jobHandle>NGBW-JOB-OSBPYNEURON74-0FCC245C86734CF7A4CBD7A80A607EB2</jobHandle>\n",
      "            <filename>STDERR</filename>\n",
      "            <length>14671</length>\n",
      "            <parameterName>PROCESS_OUTPUT</parameterName>\n",
      "            <outputDocumentId>1718</outputDocumentId>\n",
      "        </jobfile>\n",
      "        <jobfile>\n",
      "            <downloadUri>\n",
      "                <url>https://nsgr.sdsc.edu:8443/cipresrest/v1/job/andrisecker/NGBW-JOB-OSBPYNEURON74-0FCC245C86734CF7A4CBD7A80A607EB2/output/1719</url>\n",
      "                <rel>fileDownload</rel>\n",
      "                <title>scheduler_stdout.txt</title>\n",
      "            </downloadUri>\n",
      "            <jobHandle>NGBW-JOB-OSBPYNEURON74-0FCC245C86734CF7A4CBD7A80A607EB2</jobHandle>\n",
      "            <filename>scheduler_stdout.txt</filename>\n",
      "            <length>24765</length>\n",
      "            <parameterName>outputfile</parameterName>\n",
      "            <outputDocumentId>1719</outputDocumentId>\n",
      "        </jobfile>\n",
      "        <jobfile>\n",
      "            <downloadUri>\n",
      "                <url>https://nsgr.sdsc.edu:8443/cipresrest/v1/job/andrisecker/NGBW-JOB-OSBPYNEURON74-0FCC245C86734CF7A4CBD7A80A607EB2/output/1720</url>\n",
      "                <rel>fileDownload</rel>\n",
      "                <title>scheduler_stderr.txt</title>\n",
      "            </downloadUri>\n",
      "            <jobHandle>NGBW-JOB-OSBPYNEURON74-0FCC245C86734CF7A4CBD7A80A607EB2</jobHandle>\n",
      "            <filename>scheduler_stderr.txt</filename>\n",
      "            <length>844</length>\n",
      "            <parameterName>outputfile</parameterName>\n",
      "            <outputDocumentId>1720</outputDocumentId>\n",
      "        </jobfile>\n",
      "        <jobfile>\n",
      "            <downloadUri>\n",
      "                <url>https://nsgr.sdsc.edu:8443/cipresrest/v1/job/andrisecker/NGBW-JOB-OSBPYNEURON74-0FCC245C86734CF7A4CBD7A80A607EB2/output/1721</url>\n",
      "                <rel>fileDownload</rel>\n",
      "                <title>output.tar.gz</title>\n",
      "            </downloadUri>\n",
      "            <jobHandle>NGBW-JOB-OSBPYNEURON74-0FCC245C86734CF7A4CBD7A80A607EB2</jobHandle>\n",
      "            <filename>output.tar.gz</filename>\n",
      "            <length>25582950</length>\n",
      "            <parameterName>outputfile</parameterName>\n",
      "            <outputDocumentId>1721</outputDocumentId>\n",
      "        </jobfile>\n",
      "    </jobfiles>\n",
      "</results>\n"
     ]
    }
   ],
   "source": [
    "jobName = \"NGBW-JOB-OSBPYNEURON74-0FCC245C86734CF7A4CBD7A80A607EB2\"  #jobName from the e-mail\n",
    "\n",
    "# list the results produced by NSG:\n",
    "!./list_results.sh $jobName"
   ]
  },
  {
   "cell_type": "markdown",
   "metadata": {},
   "source": [
    "**look for output.tar.gz** (line with: `<filename>output.tar.gz</filename>`), set `outputDocumentId` with the ID of output.tar.gz (or any other document which you want to download separately) and download the results\n",
    "> Note: you might have to deleta the current output.tar.gz first"
   ]
  },
  {
   "cell_type": "code",
   "execution_count": 8,
   "metadata": {
    "collapsed": false
   },
   "outputs": [
    {
     "name": "stdout",
     "output_type": "stream",
     "text": [
      "Read in data for NSG REST API user: andrisecker to access: https://nsgr.sdsc.edu:8443/cipresrest/v1...\n",
      "Accessing: https://nsgr.sdsc.edu:8443/cipresrest/v1/job/andrisecker/NGBW-JOB-OSBPYNEURON74-0FCC245C86734CF7A4CBD7A80A607EB2 for user andrisecker\n",
      "  % Total    % Received % Xferd  Average Speed   Time    Time     Time  Current\n",
      "                                 Dload  Upload   Total   Spent    Left  Speed\n",
      "100 24.3M    0 24.3M    0     0   644k      0 --:--:--  0:00:38 --:--:-- 1417k\n",
      "curl: Saved to filename 'output.tar.gz'\n"
     ]
    }
   ],
   "source": [
    "outputDocumentId = 1721\n",
    "\n",
    "# download the results\n",
    "!./download_results.sh $jobName $outputDocumentId"
   ]
  },
  {
   "cell_type": "markdown",
   "metadata": {},
   "source": [
    "### Analysing results\n",
    "\n",
    "..."
   ]
  }
 ],
 "metadata": {
  "kernelspec": {
   "display_name": "Python 2",
   "language": "python",
   "name": "python2"
  },
  "language_info": {
   "codemirror_mode": {
    "name": "ipython",
    "version": 2
   },
   "file_extension": ".py",
   "mimetype": "text/x-python",
   "name": "python",
   "nbconvert_exporter": "python",
   "pygments_lexer": "ipython2",
   "version": "2.7.12"
  }
 },
 "nbformat": 4,
 "nbformat_minor": 1
}
